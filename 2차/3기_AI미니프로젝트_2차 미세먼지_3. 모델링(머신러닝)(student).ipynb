{
 "cells": [
  {
   "cell_type": "code",
   "execution_count": 1,
   "id": "efficient-minutes",
   "metadata": {
    "tags": []
   },
   "outputs": [],
   "source": [
    "# 필요한 라이브러리 설치 및 임포트\n",
    "\n",
    "import pandas as pd\n",
    "\n",
    "from sklearn.neighbors import KNeighborsRegressor\n",
    "from sklearn.linear_model import LinearRegression, Lasso, Ridge, ElasticNet\n",
    "from sklearn.tree import DecisionTreeRegressor as DTR\n",
    "from sklearn.ensemble import RandomForestRegressor as RFR\n",
    "from sklearn.ensemble import GradientBoostingRegressor as GBR\n",
    "from sklearn.metrics import mean_squared_error as mse\n",
    "from sklearn.metrics import r2_score\n",
    "from sklearn.metrics import f1_score\n",
    "from sklearn.metrics import accuracy_score as acc\n",
    "from sklearn.metrics import recall_score as recall\n",
    "import joblib"
   ]
  },
  {
   "cell_type": "markdown",
   "id": "20aaca37-89d7-4045-affa-5a510c69495e",
   "metadata": {
    "tags": []
   },
   "source": [
    "# [Step 3] 머신러닝 모델링1"
   ]
  },
  {
   "cell_type": "markdown",
   "id": "1a3f4996-4681-4eae-b839-8ad6267387ae",
   "metadata": {
    "tags": []
   },
   "source": [
    "#### **<span style=\"color:blue\">[3-1] 학습 및 테스트 데이터 로딩</span>**"
   ]
  },
  {
   "cell_type": "code",
   "execution_count": 2,
   "id": "changed-arrangement",
   "metadata": {
    "scrolled": true
   },
   "outputs": [],
   "source": [
    "# train_x.csv / train_y.csv / test_x.csv / test_y.csv 4개의 데이터 로딩\n",
    "x_train = pd.read_csv(\"C:/Users/User/iCloudDrive/AIVLE/3월/1~2주차/train_x.csv\", sep = ',', encoding='utf-8')\n",
    "x_test = pd.read_csv(\"C:/Users/User/iCloudDrive/AIVLE/3월/1~2주차/test_x.csv\", sep = ',', encoding='utf-8')\n",
    "y_train = pd.read_csv(\"C:/Users/User/iCloudDrive/AIVLE/3월/1~2주차/train_y.csv\", sep = ',', encoding='utf-8')\n",
    "y_test = pd.read_csv(\"C:/Users/User/iCloudDrive/AIVLE/3월/1~2주차/test_y.csv\", sep = ',', encoding='utf-8')"
   ]
  },
  {
   "cell_type": "markdown",
   "id": "2084ca1a",
   "metadata": {},
   "source": [
    "---"
   ]
  },
  {
   "cell_type": "markdown",
   "id": "66dca0e8-a0d1-4562-8afe-3e8f85733393",
   "metadata": {
    "tags": []
   },
   "source": [
    "#### **<span style=\"color:blue\">[3-2] 모델링: LinearRegression</span>**"
   ]
  },
  {
   "cell_type": "markdown",
   "id": "joined-client",
   "metadata": {},
   "source": [
    "* Train과 Test로 나눈 데이터를 기준으로 LinearRegression 모델링을 진행하고 평가를 해주세요.\n",
    "* 그리고 모델 파일을 pkl로 저장해주세요.\n",
    "* 성능지표 : MSE, R-squared Score(소수점 5째자리까지)"
   ]
  },
  {
   "cell_type": "code",
   "execution_count": 3,
   "id": "071c1f1e-9474-40c0-86a0-46be2f1283a7",
   "metadata": {},
   "outputs": [
    {
     "data": {
      "text/html": [
       "<div>\n",
       "<style scoped>\n",
       "    .dataframe tbody tr th:only-of-type {\n",
       "        vertical-align: middle;\n",
       "    }\n",
       "\n",
       "    .dataframe tbody tr th {\n",
       "        vertical-align: top;\n",
       "    }\n",
       "\n",
       "    .dataframe thead th {\n",
       "        text-align: right;\n",
       "    }\n",
       "</style>\n",
       "<table border=\"1\" class=\"dataframe\">\n",
       "  <thead>\n",
       "    <tr style=\"text-align: right;\">\n",
       "      <th></th>\n",
       "      <th>측정소코드</th>\n",
       "      <th>측정일시</th>\n",
       "      <th>SO2</th>\n",
       "      <th>CO</th>\n",
       "      <th>O3</th>\n",
       "      <th>NO2</th>\n",
       "      <th>PM10</th>\n",
       "      <th>PM25</th>\n",
       "      <th>기온(°C)</th>\n",
       "      <th>강수량(mm)</th>\n",
       "      <th>...</th>\n",
       "      <th>시정(10m)</th>\n",
       "      <th>지면온도(°C)</th>\n",
       "      <th>5cm 지중온도(°C)</th>\n",
       "      <th>10cm 지중온도(°C)</th>\n",
       "      <th>20cm 지중온도(°C)</th>\n",
       "      <th>30cm 지중온도(°C)</th>\n",
       "      <th>month</th>\n",
       "      <th>day</th>\n",
       "      <th>hour</th>\n",
       "      <th>PM10_lag1</th>\n",
       "    </tr>\n",
       "  </thead>\n",
       "  <tbody>\n",
       "    <tr>\n",
       "      <th>count</th>\n",
       "      <td>8759.0</td>\n",
       "      <td>8.759000e+03</td>\n",
       "      <td>8759.000000</td>\n",
       "      <td>8759.000000</td>\n",
       "      <td>8759.000000</td>\n",
       "      <td>8759.000000</td>\n",
       "      <td>8759.000000</td>\n",
       "      <td>8759.000000</td>\n",
       "      <td>8759.000000</td>\n",
       "      <td>8759.000000</td>\n",
       "      <td>...</td>\n",
       "      <td>8759.000000</td>\n",
       "      <td>8759.000000</td>\n",
       "      <td>8759.000000</td>\n",
       "      <td>8759.000000</td>\n",
       "      <td>8759.000000</td>\n",
       "      <td>8759.000000</td>\n",
       "      <td>8759.000000</td>\n",
       "      <td>8759.000000</td>\n",
       "      <td>8759.000000</td>\n",
       "      <td>8759.000000</td>\n",
       "    </tr>\n",
       "    <tr>\n",
       "      <th>mean</th>\n",
       "      <td>111123.0</td>\n",
       "      <td>2.021067e+09</td>\n",
       "      <td>0.003342</td>\n",
       "      <td>0.501028</td>\n",
       "      <td>0.028923</td>\n",
       "      <td>0.023133</td>\n",
       "      <td>38.460441</td>\n",
       "      <td>20.240096</td>\n",
       "      <td>13.739194</td>\n",
       "      <td>0.135461</td>\n",
       "      <td>...</td>\n",
       "      <td>1719.765384</td>\n",
       "      <td>14.725893</td>\n",
       "      <td>15.119945</td>\n",
       "      <td>14.546809</td>\n",
       "      <td>14.524980</td>\n",
       "      <td>14.819169</td>\n",
       "      <td>6.526658</td>\n",
       "      <td>15.722229</td>\n",
       "      <td>11.501313</td>\n",
       "      <td>38.363968</td>\n",
       "    </tr>\n",
       "    <tr>\n",
       "      <th>std</th>\n",
       "      <td>0.0</td>\n",
       "      <td>3.449880e+04</td>\n",
       "      <td>0.000904</td>\n",
       "      <td>0.214045</td>\n",
       "      <td>0.019837</td>\n",
       "      <td>0.014561</td>\n",
       "      <td>47.377423</td>\n",
       "      <td>16.612403</td>\n",
       "      <td>10.894786</td>\n",
       "      <td>1.183827</td>\n",
       "      <td>...</td>\n",
       "      <td>521.130959</td>\n",
       "      <td>12.043772</td>\n",
       "      <td>10.179094</td>\n",
       "      <td>10.047573</td>\n",
       "      <td>9.742684</td>\n",
       "      <td>9.364521</td>\n",
       "      <td>3.447739</td>\n",
       "      <td>8.795845</td>\n",
       "      <td>6.921886</td>\n",
       "      <td>47.416695</td>\n",
       "    </tr>\n",
       "    <tr>\n",
       "      <th>min</th>\n",
       "      <td>111123.0</td>\n",
       "      <td>2.021010e+09</td>\n",
       "      <td>0.000000</td>\n",
       "      <td>0.000000</td>\n",
       "      <td>0.000000</td>\n",
       "      <td>0.000000</td>\n",
       "      <td>0.000000</td>\n",
       "      <td>0.000000</td>\n",
       "      <td>-18.500000</td>\n",
       "      <td>0.000000</td>\n",
       "      <td>...</td>\n",
       "      <td>33.000000</td>\n",
       "      <td>-12.700000</td>\n",
       "      <td>-4.700000</td>\n",
       "      <td>-4.600000</td>\n",
       "      <td>-3.000000</td>\n",
       "      <td>-0.800000</td>\n",
       "      <td>1.000000</td>\n",
       "      <td>1.000000</td>\n",
       "      <td>0.000000</td>\n",
       "      <td>0.000000</td>\n",
       "    </tr>\n",
       "    <tr>\n",
       "      <th>25%</th>\n",
       "      <td>111123.0</td>\n",
       "      <td>2.021040e+09</td>\n",
       "      <td>0.003000</td>\n",
       "      <td>0.400000</td>\n",
       "      <td>0.014000</td>\n",
       "      <td>0.012000</td>\n",
       "      <td>18.000000</td>\n",
       "      <td>10.000000</td>\n",
       "      <td>6.000000</td>\n",
       "      <td>0.000000</td>\n",
       "      <td>...</td>\n",
       "      <td>1719.000000</td>\n",
       "      <td>4.300000</td>\n",
       "      <td>5.900000</td>\n",
       "      <td>5.500000</td>\n",
       "      <td>5.600000</td>\n",
       "      <td>6.200000</td>\n",
       "      <td>4.000000</td>\n",
       "      <td>8.000000</td>\n",
       "      <td>6.000000</td>\n",
       "      <td>18.000000</td>\n",
       "    </tr>\n",
       "    <tr>\n",
       "      <th>50%</th>\n",
       "      <td>111123.0</td>\n",
       "      <td>2.021070e+09</td>\n",
       "      <td>0.003000</td>\n",
       "      <td>0.400000</td>\n",
       "      <td>0.027000</td>\n",
       "      <td>0.019000</td>\n",
       "      <td>29.000000</td>\n",
       "      <td>16.000000</td>\n",
       "      <td>14.600000</td>\n",
       "      <td>0.000000</td>\n",
       "      <td>...</td>\n",
       "      <td>2000.000000</td>\n",
       "      <td>15.400000</td>\n",
       "      <td>15.400000</td>\n",
       "      <td>14.700000</td>\n",
       "      <td>14.600000</td>\n",
       "      <td>15.100000</td>\n",
       "      <td>7.000000</td>\n",
       "      <td>16.000000</td>\n",
       "      <td>12.000000</td>\n",
       "      <td>29.000000</td>\n",
       "    </tr>\n",
       "    <tr>\n",
       "      <th>75%</th>\n",
       "      <td>111123.0</td>\n",
       "      <td>2.021100e+09</td>\n",
       "      <td>0.004000</td>\n",
       "      <td>0.600000</td>\n",
       "      <td>0.040000</td>\n",
       "      <td>0.031000</td>\n",
       "      <td>45.000000</td>\n",
       "      <td>25.000000</td>\n",
       "      <td>22.600000</td>\n",
       "      <td>0.000000</td>\n",
       "      <td>...</td>\n",
       "      <td>2000.000000</td>\n",
       "      <td>23.600000</td>\n",
       "      <td>24.100000</td>\n",
       "      <td>23.500000</td>\n",
       "      <td>23.400000</td>\n",
       "      <td>23.600000</td>\n",
       "      <td>10.000000</td>\n",
       "      <td>23.000000</td>\n",
       "      <td>17.500000</td>\n",
       "      <td>45.000000</td>\n",
       "    </tr>\n",
       "    <tr>\n",
       "      <th>max</th>\n",
       "      <td>111123.0</td>\n",
       "      <td>2.021123e+09</td>\n",
       "      <td>0.011000</td>\n",
       "      <td>2.000000</td>\n",
       "      <td>0.137000</td>\n",
       "      <td>0.082000</td>\n",
       "      <td>942.000000</td>\n",
       "      <td>154.000000</td>\n",
       "      <td>36.300000</td>\n",
       "      <td>64.700000</td>\n",
       "      <td>...</td>\n",
       "      <td>2000.000000</td>\n",
       "      <td>56.800000</td>\n",
       "      <td>35.700000</td>\n",
       "      <td>33.700000</td>\n",
       "      <td>31.900000</td>\n",
       "      <td>30.600000</td>\n",
       "      <td>12.000000</td>\n",
       "      <td>31.000000</td>\n",
       "      <td>23.000000</td>\n",
       "      <td>942.000000</td>\n",
       "    </tr>\n",
       "  </tbody>\n",
       "</table>\n",
       "<p>8 rows × 31 columns</p>\n",
       "</div>"
      ],
      "text/plain": [
       "          측정소코드          측정일시          SO2           CO           O3  \\\n",
       "count    8759.0  8.759000e+03  8759.000000  8759.000000  8759.000000   \n",
       "mean   111123.0  2.021067e+09     0.003342     0.501028     0.028923   \n",
       "std         0.0  3.449880e+04     0.000904     0.214045     0.019837   \n",
       "min    111123.0  2.021010e+09     0.000000     0.000000     0.000000   \n",
       "25%    111123.0  2.021040e+09     0.003000     0.400000     0.014000   \n",
       "50%    111123.0  2.021070e+09     0.003000     0.400000     0.027000   \n",
       "75%    111123.0  2.021100e+09     0.004000     0.600000     0.040000   \n",
       "max    111123.0  2.021123e+09     0.011000     2.000000     0.137000   \n",
       "\n",
       "               NO2         PM10         PM25       기온(°C)      강수량(mm)  ...  \\\n",
       "count  8759.000000  8759.000000  8759.000000  8759.000000  8759.000000  ...   \n",
       "mean      0.023133    38.460441    20.240096    13.739194     0.135461  ...   \n",
       "std       0.014561    47.377423    16.612403    10.894786     1.183827  ...   \n",
       "min       0.000000     0.000000     0.000000   -18.500000     0.000000  ...   \n",
       "25%       0.012000    18.000000    10.000000     6.000000     0.000000  ...   \n",
       "50%       0.019000    29.000000    16.000000    14.600000     0.000000  ...   \n",
       "75%       0.031000    45.000000    25.000000    22.600000     0.000000  ...   \n",
       "max       0.082000   942.000000   154.000000    36.300000    64.700000  ...   \n",
       "\n",
       "           시정(10m)     지면온도(°C)  5cm 지중온도(°C)  10cm 지중온도(°C)  20cm 지중온도(°C)  \\\n",
       "count  8759.000000  8759.000000   8759.000000    8759.000000    8759.000000   \n",
       "mean   1719.765384    14.725893     15.119945      14.546809      14.524980   \n",
       "std     521.130959    12.043772     10.179094      10.047573       9.742684   \n",
       "min      33.000000   -12.700000     -4.700000      -4.600000      -3.000000   \n",
       "25%    1719.000000     4.300000      5.900000       5.500000       5.600000   \n",
       "50%    2000.000000    15.400000     15.400000      14.700000      14.600000   \n",
       "75%    2000.000000    23.600000     24.100000      23.500000      23.400000   \n",
       "max    2000.000000    56.800000     35.700000      33.700000      31.900000   \n",
       "\n",
       "       30cm 지중온도(°C)        month          day         hour    PM10_lag1  \n",
       "count    8759.000000  8759.000000  8759.000000  8759.000000  8759.000000  \n",
       "mean       14.819169     6.526658    15.722229    11.501313    38.363968  \n",
       "std         9.364521     3.447739     8.795845     6.921886    47.416695  \n",
       "min        -0.800000     1.000000     1.000000     0.000000     0.000000  \n",
       "25%         6.200000     4.000000     8.000000     6.000000    18.000000  \n",
       "50%        15.100000     7.000000    16.000000    12.000000    29.000000  \n",
       "75%        23.600000    10.000000    23.000000    17.500000    45.000000  \n",
       "max        30.600000    12.000000    31.000000    23.000000   942.000000  \n",
       "\n",
       "[8 rows x 31 columns]"
      ]
     },
     "execution_count": 3,
     "metadata": {},
     "output_type": "execute_result"
    }
   ],
   "source": [
    "x_train.describe()"
   ]
  },
  {
   "cell_type": "code",
   "execution_count": 4,
   "id": "8c232926-a6cd-4ea1-a577-ecaa4ea9c110",
   "metadata": {},
   "outputs": [
    {
     "name": "stdout",
     "output_type": "stream",
     "text": [
      "<class 'pandas.core.frame.DataFrame'>\n",
      "RangeIndex: 8759 entries, 0 to 8758\n",
      "Data columns (total 37 columns):\n",
      " #   Column         Non-Null Count  Dtype  \n",
      "---  ------         --------------  -----  \n",
      " 0   time           8759 non-null   object \n",
      " 1   지역             8759 non-null   object \n",
      " 2   망              8759 non-null   object \n",
      " 3   측정소코드          8759 non-null   int64  \n",
      " 4   측정소명           8759 non-null   object \n",
      " 5   측정일시           8759 non-null   int64  \n",
      " 6   SO2            8759 non-null   float64\n",
      " 7   CO             8759 non-null   float64\n",
      " 8   O3             8759 non-null   float64\n",
      " 9   NO2            8759 non-null   float64\n",
      " 10  PM10           8759 non-null   float64\n",
      " 11  PM25           8759 non-null   float64\n",
      " 12  주소             8759 non-null   object \n",
      " 13  일시             8759 non-null   object \n",
      " 14  기온(°C)         8759 non-null   float64\n",
      " 15  강수량(mm)        8759 non-null   float64\n",
      " 16  풍속(m/s)        8759 non-null   float64\n",
      " 17  풍향(16방위)       8759 non-null   float64\n",
      " 18  습도(%)          8759 non-null   int64  \n",
      " 19  증기압(hPa)       8759 non-null   float64\n",
      " 20  이슬점온도(°C)      8759 non-null   float64\n",
      " 21  현지기압(hPa)      8759 non-null   float64\n",
      " 22  해면기압(hPa)      8759 non-null   float64\n",
      " 23  적설(cm)         8759 non-null   float64\n",
      " 24  3시간신적설(cm)     8759 non-null   float64\n",
      " 25  전운량(10분위)      8759 non-null   float64\n",
      " 26  중하층운량(10분위)    8759 non-null   int64  \n",
      " 27  시정(10m)        8759 non-null   int64  \n",
      " 28  지면온도(°C)       8759 non-null   float64\n",
      " 29  5cm 지중온도(°C)   8759 non-null   float64\n",
      " 30  10cm 지중온도(°C)  8759 non-null   float64\n",
      " 31  20cm 지중온도(°C)  8759 non-null   float64\n",
      " 32  30cm 지중온도(°C)  8759 non-null   float64\n",
      " 33  month          8759 non-null   int64  \n",
      " 34  day            8759 non-null   int64  \n",
      " 35  hour           8759 non-null   int64  \n",
      " 36  PM10_lag1      8759 non-null   float64\n",
      "dtypes: float64(23), int64(8), object(6)\n",
      "memory usage: 2.5+ MB\n"
     ]
    }
   ],
   "source": [
    "x_train.info()"
   ]
  },
  {
   "cell_type": "code",
   "execution_count": 31,
   "id": "e6497f5e-596c-4570-9022-819440f8bcc4",
   "metadata": {},
   "outputs": [
    {
     "data": {
      "text/html": [
       "<div>\n",
       "<style scoped>\n",
       "    .dataframe tbody tr th:only-of-type {\n",
       "        vertical-align: middle;\n",
       "    }\n",
       "\n",
       "    .dataframe tbody tr th {\n",
       "        vertical-align: top;\n",
       "    }\n",
       "\n",
       "    .dataframe thead th {\n",
       "        text-align: right;\n",
       "    }\n",
       "</style>\n",
       "<table border=\"1\" class=\"dataframe\">\n",
       "  <thead>\n",
       "    <tr style=\"text-align: right;\">\n",
       "      <th></th>\n",
       "      <th>SO2</th>\n",
       "      <th>CO</th>\n",
       "      <th>O3</th>\n",
       "      <th>NO2</th>\n",
       "      <th>PM10</th>\n",
       "      <th>PM25</th>\n",
       "      <th>기온(°C)</th>\n",
       "      <th>강수량(mm)</th>\n",
       "      <th>풍속(m/s)</th>\n",
       "      <th>풍향(16방위)</th>\n",
       "      <th>습도(%)</th>\n",
       "      <th>증기압(hPa)</th>\n",
       "      <th>이슬점온도(°C)</th>\n",
       "      <th>현지기압(hPa)</th>\n",
       "      <th>해면기압(hPa)</th>\n",
       "      <th>적설(cm)</th>\n",
       "      <th>3시간신적설(cm)</th>\n",
       "      <th>전운량(10분위)</th>\n",
       "      <th>중하층운량(10분위)</th>\n",
       "      <th>시정(10m)</th>\n",
       "      <th>지면온도(°C)</th>\n",
       "      <th>5cm 지중온도(°C)</th>\n",
       "      <th>10cm 지중온도(°C)</th>\n",
       "      <th>20cm 지중온도(°C)</th>\n",
       "      <th>30cm 지중온도(°C)</th>\n",
       "      <th>month</th>\n",
       "      <th>day</th>\n",
       "      <th>hour</th>\n",
       "      <th>PM10_lag1</th>\n",
       "    </tr>\n",
       "  </thead>\n",
       "  <tbody>\n",
       "    <tr>\n",
       "      <th>0</th>\n",
       "      <td>0.003</td>\n",
       "      <td>0.6</td>\n",
       "      <td>0.002</td>\n",
       "      <td>0.039</td>\n",
       "      <td>31.0</td>\n",
       "      <td>18.0</td>\n",
       "      <td>19.2</td>\n",
       "      <td>0.0</td>\n",
       "      <td>1.3</td>\n",
       "      <td>360.0</td>\n",
       "      <td>83</td>\n",
       "      <td>18.4</td>\n",
       "      <td>16.2</td>\n",
       "      <td>998.8</td>\n",
       "      <td>1008.7</td>\n",
       "      <td>0.0</td>\n",
       "      <td>0.0</td>\n",
       "      <td>0.0</td>\n",
       "      <td>0</td>\n",
       "      <td>2000</td>\n",
       "      <td>17.8</td>\n",
       "      <td>22.3</td>\n",
       "      <td>22.3</td>\n",
       "      <td>22.7</td>\n",
       "      <td>22.9</td>\n",
       "      <td>10</td>\n",
       "      <td>1</td>\n",
       "      <td>0</td>\n",
       "      <td>10.0</td>\n",
       "    </tr>\n",
       "    <tr>\n",
       "      <th>1</th>\n",
       "      <td>0.003</td>\n",
       "      <td>0.6</td>\n",
       "      <td>0.002</td>\n",
       "      <td>0.035</td>\n",
       "      <td>27.0</td>\n",
       "      <td>16.0</td>\n",
       "      <td>18.7</td>\n",
       "      <td>0.0</td>\n",
       "      <td>1.0</td>\n",
       "      <td>20.0</td>\n",
       "      <td>85</td>\n",
       "      <td>18.3</td>\n",
       "      <td>16.1</td>\n",
       "      <td>998.8</td>\n",
       "      <td>1008.7</td>\n",
       "      <td>0.0</td>\n",
       "      <td>0.0</td>\n",
       "      <td>0.0</td>\n",
       "      <td>0</td>\n",
       "      <td>2000</td>\n",
       "      <td>17.4</td>\n",
       "      <td>22.1</td>\n",
       "      <td>22.0</td>\n",
       "      <td>22.5</td>\n",
       "      <td>22.9</td>\n",
       "      <td>10</td>\n",
       "      <td>1</td>\n",
       "      <td>1</td>\n",
       "      <td>9.0</td>\n",
       "    </tr>\n",
       "    <tr>\n",
       "      <th>2</th>\n",
       "      <td>0.003</td>\n",
       "      <td>0.6</td>\n",
       "      <td>0.002</td>\n",
       "      <td>0.033</td>\n",
       "      <td>28.0</td>\n",
       "      <td>18.0</td>\n",
       "      <td>18.3</td>\n",
       "      <td>0.0</td>\n",
       "      <td>0.3</td>\n",
       "      <td>0.0</td>\n",
       "      <td>89</td>\n",
       "      <td>18.6</td>\n",
       "      <td>16.4</td>\n",
       "      <td>998.9</td>\n",
       "      <td>1008.8</td>\n",
       "      <td>0.0</td>\n",
       "      <td>0.0</td>\n",
       "      <td>0.0</td>\n",
       "      <td>0</td>\n",
       "      <td>2000</td>\n",
       "      <td>17.2</td>\n",
       "      <td>21.8</td>\n",
       "      <td>21.8</td>\n",
       "      <td>22.4</td>\n",
       "      <td>22.8</td>\n",
       "      <td>10</td>\n",
       "      <td>1</td>\n",
       "      <td>2</td>\n",
       "      <td>9.0</td>\n",
       "    </tr>\n",
       "    <tr>\n",
       "      <th>3</th>\n",
       "      <td>0.003</td>\n",
       "      <td>0.6</td>\n",
       "      <td>0.002</td>\n",
       "      <td>0.030</td>\n",
       "      <td>26.0</td>\n",
       "      <td>16.0</td>\n",
       "      <td>17.7</td>\n",
       "      <td>0.0</td>\n",
       "      <td>2.0</td>\n",
       "      <td>20.0</td>\n",
       "      <td>92</td>\n",
       "      <td>18.5</td>\n",
       "      <td>16.3</td>\n",
       "      <td>998.1</td>\n",
       "      <td>1008.1</td>\n",
       "      <td>0.0</td>\n",
       "      <td>0.0</td>\n",
       "      <td>0.0</td>\n",
       "      <td>0</td>\n",
       "      <td>2000</td>\n",
       "      <td>17.0</td>\n",
       "      <td>21.6</td>\n",
       "      <td>21.6</td>\n",
       "      <td>22.2</td>\n",
       "      <td>22.8</td>\n",
       "      <td>10</td>\n",
       "      <td>1</td>\n",
       "      <td>3</td>\n",
       "      <td>10.0</td>\n",
       "    </tr>\n",
       "    <tr>\n",
       "      <th>4</th>\n",
       "      <td>0.003</td>\n",
       "      <td>0.5</td>\n",
       "      <td>0.003</td>\n",
       "      <td>0.026</td>\n",
       "      <td>26.0</td>\n",
       "      <td>16.0</td>\n",
       "      <td>17.4</td>\n",
       "      <td>0.0</td>\n",
       "      <td>1.0</td>\n",
       "      <td>50.0</td>\n",
       "      <td>91</td>\n",
       "      <td>18.1</td>\n",
       "      <td>15.9</td>\n",
       "      <td>997.9</td>\n",
       "      <td>1007.9</td>\n",
       "      <td>0.0</td>\n",
       "      <td>0.0</td>\n",
       "      <td>0.0</td>\n",
       "      <td>0</td>\n",
       "      <td>2000</td>\n",
       "      <td>16.5</td>\n",
       "      <td>21.3</td>\n",
       "      <td>21.4</td>\n",
       "      <td>22.0</td>\n",
       "      <td>22.7</td>\n",
       "      <td>10</td>\n",
       "      <td>1</td>\n",
       "      <td>4</td>\n",
       "      <td>11.0</td>\n",
       "    </tr>\n",
       "  </tbody>\n",
       "</table>\n",
       "</div>"
      ],
      "text/plain": [
       "     SO2   CO     O3    NO2  PM10  PM25  기온(°C)  강수량(mm)  풍속(m/s)  풍향(16방위)  \\\n",
       "0  0.003  0.6  0.002  0.039  31.0  18.0    19.2      0.0      1.3     360.0   \n",
       "1  0.003  0.6  0.002  0.035  27.0  16.0    18.7      0.0      1.0      20.0   \n",
       "2  0.003  0.6  0.002  0.033  28.0  18.0    18.3      0.0      0.3       0.0   \n",
       "3  0.003  0.6  0.002  0.030  26.0  16.0    17.7      0.0      2.0      20.0   \n",
       "4  0.003  0.5  0.003  0.026  26.0  16.0    17.4      0.0      1.0      50.0   \n",
       "\n",
       "   습도(%)  증기압(hPa)  이슬점온도(°C)  현지기압(hPa)  해면기압(hPa)  적설(cm)  3시간신적설(cm)  \\\n",
       "0     83      18.4       16.2      998.8     1008.7     0.0         0.0   \n",
       "1     85      18.3       16.1      998.8     1008.7     0.0         0.0   \n",
       "2     89      18.6       16.4      998.9     1008.8     0.0         0.0   \n",
       "3     92      18.5       16.3      998.1     1008.1     0.0         0.0   \n",
       "4     91      18.1       15.9      997.9     1007.9     0.0         0.0   \n",
       "\n",
       "   전운량(10분위)  중하층운량(10분위)  시정(10m)  지면온도(°C)  5cm 지중온도(°C)  10cm 지중온도(°C)  \\\n",
       "0        0.0            0     2000      17.8          22.3           22.3   \n",
       "1        0.0            0     2000      17.4          22.1           22.0   \n",
       "2        0.0            0     2000      17.2          21.8           21.8   \n",
       "3        0.0            0     2000      17.0          21.6           21.6   \n",
       "4        0.0            0     2000      16.5          21.3           21.4   \n",
       "\n",
       "   20cm 지중온도(°C)  30cm 지중온도(°C)  month  day  hour  PM10_lag1  \n",
       "0           22.7           22.9     10    1     0       10.0  \n",
       "1           22.5           22.9     10    1     1        9.0  \n",
       "2           22.4           22.8     10    1     2        9.0  \n",
       "3           22.2           22.8     10    1     3       10.0  \n",
       "4           22.0           22.7     10    1     4       11.0  "
      ]
     },
     "execution_count": 31,
     "metadata": {},
     "output_type": "execute_result"
    }
   ],
   "source": [
    "pd.set_option('display.max_columns', None)\n",
    "x_train.head(5)"
   ]
  },
  {
   "cell_type": "code",
   "execution_count": 6,
   "id": "0d6eaf69-75d2-4487-a2be-bf955e0dd2d8",
   "metadata": {},
   "outputs": [],
   "source": [
    "y_train.drop(['time'], axis=1, inplace=True)\n",
    "y_test.drop(['time'], axis=1, inplace=True)"
   ]
  },
  {
   "cell_type": "code",
   "execution_count": 7,
   "id": "119c3243-5fd4-4b11-80ea-e9e8da2e973e",
   "metadata": {},
   "outputs": [],
   "source": [
    "x_train.drop(['time', '측정일시', '지역', '망', '측정소명', '주소', '일시', '측정소코드'], axis=1, inplace=True)\n",
    "x_test.drop(['time', '측정일시', '지역', '망', '측정소명', '주소', '일시', '측정소코드'], axis=1, inplace=True)"
   ]
  },
  {
   "cell_type": "code",
   "execution_count": 8,
   "id": "willing-disclaimer",
   "metadata": {},
   "outputs": [
    {
     "data": {
      "text/html": [
       "<style>#sk-container-id-1 {color: black;background-color: white;}#sk-container-id-1 pre{padding: 0;}#sk-container-id-1 div.sk-toggleable {background-color: white;}#sk-container-id-1 label.sk-toggleable__label {cursor: pointer;display: block;width: 100%;margin-bottom: 0;padding: 0.3em;box-sizing: border-box;text-align: center;}#sk-container-id-1 label.sk-toggleable__label-arrow:before {content: \"▸\";float: left;margin-right: 0.25em;color: #696969;}#sk-container-id-1 label.sk-toggleable__label-arrow:hover:before {color: black;}#sk-container-id-1 div.sk-estimator:hover label.sk-toggleable__label-arrow:before {color: black;}#sk-container-id-1 div.sk-toggleable__content {max-height: 0;max-width: 0;overflow: hidden;text-align: left;background-color: #f0f8ff;}#sk-container-id-1 div.sk-toggleable__content pre {margin: 0.2em;color: black;border-radius: 0.25em;background-color: #f0f8ff;}#sk-container-id-1 input.sk-toggleable__control:checked~div.sk-toggleable__content {max-height: 200px;max-width: 100%;overflow: auto;}#sk-container-id-1 input.sk-toggleable__control:checked~label.sk-toggleable__label-arrow:before {content: \"▾\";}#sk-container-id-1 div.sk-estimator input.sk-toggleable__control:checked~label.sk-toggleable__label {background-color: #d4ebff;}#sk-container-id-1 div.sk-label input.sk-toggleable__control:checked~label.sk-toggleable__label {background-color: #d4ebff;}#sk-container-id-1 input.sk-hidden--visually {border: 0;clip: rect(1px 1px 1px 1px);clip: rect(1px, 1px, 1px, 1px);height: 1px;margin: -1px;overflow: hidden;padding: 0;position: absolute;width: 1px;}#sk-container-id-1 div.sk-estimator {font-family: monospace;background-color: #f0f8ff;border: 1px dotted black;border-radius: 0.25em;box-sizing: border-box;margin-bottom: 0.5em;}#sk-container-id-1 div.sk-estimator:hover {background-color: #d4ebff;}#sk-container-id-1 div.sk-parallel-item::after {content: \"\";width: 100%;border-bottom: 1px solid gray;flex-grow: 1;}#sk-container-id-1 div.sk-label:hover label.sk-toggleable__label {background-color: #d4ebff;}#sk-container-id-1 div.sk-serial::before {content: \"\";position: absolute;border-left: 1px solid gray;box-sizing: border-box;top: 0;bottom: 0;left: 50%;z-index: 0;}#sk-container-id-1 div.sk-serial {display: flex;flex-direction: column;align-items: center;background-color: white;padding-right: 0.2em;padding-left: 0.2em;position: relative;}#sk-container-id-1 div.sk-item {position: relative;z-index: 1;}#sk-container-id-1 div.sk-parallel {display: flex;align-items: stretch;justify-content: center;background-color: white;position: relative;}#sk-container-id-1 div.sk-item::before, #sk-container-id-1 div.sk-parallel-item::before {content: \"\";position: absolute;border-left: 1px solid gray;box-sizing: border-box;top: 0;bottom: 0;left: 50%;z-index: -1;}#sk-container-id-1 div.sk-parallel-item {display: flex;flex-direction: column;z-index: 1;position: relative;background-color: white;}#sk-container-id-1 div.sk-parallel-item:first-child::after {align-self: flex-end;width: 50%;}#sk-container-id-1 div.sk-parallel-item:last-child::after {align-self: flex-start;width: 50%;}#sk-container-id-1 div.sk-parallel-item:only-child::after {width: 0;}#sk-container-id-1 div.sk-dashed-wrapped {border: 1px dashed gray;margin: 0 0.4em 0.5em 0.4em;box-sizing: border-box;padding-bottom: 0.4em;background-color: white;}#sk-container-id-1 div.sk-label label {font-family: monospace;font-weight: bold;display: inline-block;line-height: 1.2em;}#sk-container-id-1 div.sk-label-container {text-align: center;}#sk-container-id-1 div.sk-container {/* jupyter's `normalize.less` sets `[hidden] { display: none; }` but bootstrap.min.css set `[hidden] { display: none !important; }` so we also need the `!important` here to be able to override the default hidden behavior on the sphinx rendered scikit-learn.org. See: https://github.com/scikit-learn/scikit-learn/issues/21755 */display: inline-block !important;position: relative;}#sk-container-id-1 div.sk-text-repr-fallback {display: none;}</style><div id=\"sk-container-id-1\" class=\"sk-top-container\"><div class=\"sk-text-repr-fallback\"><pre>LinearRegression()</pre><b>In a Jupyter environment, please rerun this cell to show the HTML representation or trust the notebook. <br />On GitHub, the HTML representation is unable to render, please try loading this page with nbviewer.org.</b></div><div class=\"sk-container\" hidden><div class=\"sk-item\"><div class=\"sk-estimator sk-toggleable\"><input class=\"sk-toggleable__control sk-hidden--visually\" id=\"sk-estimator-id-1\" type=\"checkbox\" checked><label for=\"sk-estimator-id-1\" class=\"sk-toggleable__label sk-toggleable__label-arrow\">LinearRegression</label><div class=\"sk-toggleable__content\"><pre>LinearRegression()</pre></div></div></div></div></div>"
      ],
      "text/plain": [
       "LinearRegression()"
      ]
     },
     "execution_count": 8,
     "metadata": {},
     "output_type": "execute_result"
    }
   ],
   "source": [
    "# LinearRegression 코드를 작성하세요.\n",
    "model = LinearRegression()\n",
    "model.fit(x_train, y_train)"
   ]
  },
  {
   "cell_type": "code",
   "execution_count": 9,
   "id": "34e3d420-703f-4de5-bd81-4b1b167318e2",
   "metadata": {},
   "outputs": [],
   "source": [
    "# predict로 예측하여 y_pred_LR에 저장해보세요.\n",
    "y_pred = model.predict(x_test)"
   ]
  },
  {
   "cell_type": "code",
   "execution_count": 29,
   "id": "0a21d60f",
   "metadata": {},
   "outputs": [
    {
     "name": "stdout",
     "output_type": "stream",
     "text": [
      "mse:  61.245601293215415\n",
      "r2-score:  0.892575863477033\n"
     ]
    }
   ],
   "source": [
    "# test_y 데이터와 y_pred_LR 데이터로 성능을 평가하여 출력해보세요.\n",
    "# 성능지표는 mse와 r2를 이용하세요.\n",
    "print('mse: ', mse(y_test, y_pred))\n",
    "print('r2-score: ', r2_score(y_test, y_pred))"
   ]
  },
  {
   "cell_type": "code",
   "execution_count": 11,
   "id": "fe2096b7",
   "metadata": {},
   "outputs": [],
   "source": [
    "# 학습한 모델을 pkl 파일로 저장해보세요.\n"
   ]
  },
  {
   "cell_type": "markdown",
   "id": "44e1265e-939a-41d6-87cd-98211da2b7d1",
   "metadata": {
    "tags": []
   },
   "source": [
    "# [Step 4] 머신러닝 모델링2"
   ]
  },
  {
   "cell_type": "markdown",
   "id": "093d7a22-50bd-401d-9655-30002e8b5985",
   "metadata": {
    "tags": []
   },
   "source": [
    "#### **<span style=\"color:blue\">(선택 수행)[4-1] 모델링: 랜덤포레스트</span>**"
   ]
  },
  {
   "cell_type": "markdown",
   "id": "crazy-escape",
   "metadata": {},
   "source": [
    "* 랜덤포레스트: 배깅의 일종으로 의사결정나무(Decision Tree) 여러 개를 모아서 숲을 랜덤으로 구성하고 이를 종합해서 최종 모델을 산출하는 기법\n",
    "* Train과 Test로 나눈 데이터를 기준으로 렌덤포레스트로 모델을 학습을 진행하고 평가를 해주세요.\n",
    "* 그리고 모델 파일을 pkl로 저장해주세요.\n",
    "* 성능지표 : MSE, R-squared Score(소수점 5째자리까지)"
   ]
  },
  {
   "cell_type": "code",
   "execution_count": 30,
   "id": "guilty-score",
   "metadata": {},
   "outputs": [
    {
     "name": "stderr",
     "output_type": "stream",
     "text": [
      "C:\\Users\\User\\AppData\\Local\\Temp\\ipykernel_3124\\4043579277.py:3: DataConversionWarning: A column-vector y was passed when a 1d array was expected. Please change the shape of y to (n_samples,), for example using ravel().\n",
      "  model.fit(x_train, y_train)\n"
     ]
    },
    {
     "data": {
      "text/html": [
       "<style>#sk-container-id-2 {color: black;background-color: white;}#sk-container-id-2 pre{padding: 0;}#sk-container-id-2 div.sk-toggleable {background-color: white;}#sk-container-id-2 label.sk-toggleable__label {cursor: pointer;display: block;width: 100%;margin-bottom: 0;padding: 0.3em;box-sizing: border-box;text-align: center;}#sk-container-id-2 label.sk-toggleable__label-arrow:before {content: \"▸\";float: left;margin-right: 0.25em;color: #696969;}#sk-container-id-2 label.sk-toggleable__label-arrow:hover:before {color: black;}#sk-container-id-2 div.sk-estimator:hover label.sk-toggleable__label-arrow:before {color: black;}#sk-container-id-2 div.sk-toggleable__content {max-height: 0;max-width: 0;overflow: hidden;text-align: left;background-color: #f0f8ff;}#sk-container-id-2 div.sk-toggleable__content pre {margin: 0.2em;color: black;border-radius: 0.25em;background-color: #f0f8ff;}#sk-container-id-2 input.sk-toggleable__control:checked~div.sk-toggleable__content {max-height: 200px;max-width: 100%;overflow: auto;}#sk-container-id-2 input.sk-toggleable__control:checked~label.sk-toggleable__label-arrow:before {content: \"▾\";}#sk-container-id-2 div.sk-estimator input.sk-toggleable__control:checked~label.sk-toggleable__label {background-color: #d4ebff;}#sk-container-id-2 div.sk-label input.sk-toggleable__control:checked~label.sk-toggleable__label {background-color: #d4ebff;}#sk-container-id-2 input.sk-hidden--visually {border: 0;clip: rect(1px 1px 1px 1px);clip: rect(1px, 1px, 1px, 1px);height: 1px;margin: -1px;overflow: hidden;padding: 0;position: absolute;width: 1px;}#sk-container-id-2 div.sk-estimator {font-family: monospace;background-color: #f0f8ff;border: 1px dotted black;border-radius: 0.25em;box-sizing: border-box;margin-bottom: 0.5em;}#sk-container-id-2 div.sk-estimator:hover {background-color: #d4ebff;}#sk-container-id-2 div.sk-parallel-item::after {content: \"\";width: 100%;border-bottom: 1px solid gray;flex-grow: 1;}#sk-container-id-2 div.sk-label:hover label.sk-toggleable__label {background-color: #d4ebff;}#sk-container-id-2 div.sk-serial::before {content: \"\";position: absolute;border-left: 1px solid gray;box-sizing: border-box;top: 0;bottom: 0;left: 50%;z-index: 0;}#sk-container-id-2 div.sk-serial {display: flex;flex-direction: column;align-items: center;background-color: white;padding-right: 0.2em;padding-left: 0.2em;position: relative;}#sk-container-id-2 div.sk-item {position: relative;z-index: 1;}#sk-container-id-2 div.sk-parallel {display: flex;align-items: stretch;justify-content: center;background-color: white;position: relative;}#sk-container-id-2 div.sk-item::before, #sk-container-id-2 div.sk-parallel-item::before {content: \"\";position: absolute;border-left: 1px solid gray;box-sizing: border-box;top: 0;bottom: 0;left: 50%;z-index: -1;}#sk-container-id-2 div.sk-parallel-item {display: flex;flex-direction: column;z-index: 1;position: relative;background-color: white;}#sk-container-id-2 div.sk-parallel-item:first-child::after {align-self: flex-end;width: 50%;}#sk-container-id-2 div.sk-parallel-item:last-child::after {align-self: flex-start;width: 50%;}#sk-container-id-2 div.sk-parallel-item:only-child::after {width: 0;}#sk-container-id-2 div.sk-dashed-wrapped {border: 1px dashed gray;margin: 0 0.4em 0.5em 0.4em;box-sizing: border-box;padding-bottom: 0.4em;background-color: white;}#sk-container-id-2 div.sk-label label {font-family: monospace;font-weight: bold;display: inline-block;line-height: 1.2em;}#sk-container-id-2 div.sk-label-container {text-align: center;}#sk-container-id-2 div.sk-container {/* jupyter's `normalize.less` sets `[hidden] { display: none; }` but bootstrap.min.css set `[hidden] { display: none !important; }` so we also need the `!important` here to be able to override the default hidden behavior on the sphinx rendered scikit-learn.org. See: https://github.com/scikit-learn/scikit-learn/issues/21755 */display: inline-block !important;position: relative;}#sk-container-id-2 div.sk-text-repr-fallback {display: none;}</style><div id=\"sk-container-id-2\" class=\"sk-top-container\"><div class=\"sk-text-repr-fallback\"><pre>RandomForestRegressor()</pre><b>In a Jupyter environment, please rerun this cell to show the HTML representation or trust the notebook. <br />On GitHub, the HTML representation is unable to render, please try loading this page with nbviewer.org.</b></div><div class=\"sk-container\" hidden><div class=\"sk-item\"><div class=\"sk-estimator sk-toggleable\"><input class=\"sk-toggleable__control sk-hidden--visually\" id=\"sk-estimator-id-2\" type=\"checkbox\" checked><label for=\"sk-estimator-id-2\" class=\"sk-toggleable__label sk-toggleable__label-arrow\">RandomForestRegressor</label><div class=\"sk-toggleable__content\"><pre>RandomForestRegressor()</pre></div></div></div></div></div>"
      ],
      "text/plain": [
       "RandomForestRegressor()"
      ]
     },
     "execution_count": 30,
     "metadata": {},
     "output_type": "execute_result"
    }
   ],
   "source": [
    "# 아래에 필요한 코드를 작성하고 결과를 확인합니다.\n",
    "model = RFR()\n",
    "model.fit(x_train, y_train)"
   ]
  },
  {
   "cell_type": "code",
   "execution_count": 34,
   "id": "7bd49bd9-389e-4a72-8ded-924dda78d58a",
   "metadata": {},
   "outputs": [],
   "source": [
    "y_pred = model.predict(x_test)"
   ]
  },
  {
   "cell_type": "code",
   "execution_count": 41,
   "id": "10b33a11",
   "metadata": {},
   "outputs": [
    {
     "name": "stdout",
     "output_type": "stream",
     "text": [
      "mse:  63.646911035659556\n",
      "r2-score:  0.8883639916011857\n"
     ]
    }
   ],
   "source": [
    "# Test 데이터로 성능을 평가해보세요.\n",
    "print('mse: ', mse(y_test, y_pred))\n",
    "print('r2-score: ', r2_score(y_test, y_pred))"
   ]
  },
  {
   "cell_type": "code",
   "execution_count": 14,
   "id": "41971ff8",
   "metadata": {},
   "outputs": [],
   "source": [
    "# 학습한 모델을 파일로 저장해보세요.\n",
    "\n"
   ]
  },
  {
   "cell_type": "code",
   "execution_count": 15,
   "id": "e19f84b0",
   "metadata": {},
   "outputs": [],
   "source": [
    "# (다음 진행은 선택입니다)\n",
    "# 렌덤포레스트로 학습한 모델의 feature_importances를 구해보세요.\n",
    "# 확인할 수 있는 내용으로 우리 모델에서의 인사이트를 정리해보세요.\n",
    "# Feature의 중요도 확인\n",
    "\n"
   ]
  },
  {
   "cell_type": "code",
   "execution_count": 16,
   "id": "af7989f3",
   "metadata": {},
   "outputs": [],
   "source": [
    "# (선택) 확인할 수 있는 인사이트\n",
    "# 1.\n",
    "# 2.\n",
    "# 3."
   ]
  },
  {
   "cell_type": "markdown",
   "id": "95401368-9bff-4118-b07a-92b833e33f20",
   "metadata": {
    "tags": []
   },
   "source": [
    "#### **<span style=\"color:blue\">(선택 수행)[4-2] 모델링: GradientBoosting</span>**"
   ]
  },
  {
   "cell_type": "markdown",
   "id": "convinced-vocabulary",
   "metadata": {},
   "source": [
    "* GradientBoosting: 앞선 모델의 에러를 다음 모델의 예측 값으로 활용하면서 가중치 업데이트 하는데 경사하강법(Gradient Descent)를 활용해서 최적 모델을 만드는 기법\n",
    "* Train과 Test로 나눈 데이터를 기준으로 그라디언트부스팅으로 모델을 학습을 진행하고 평가를 해주세요.\n",
    "* 그리고 모델 파일을 pkl로 저장해주세요.\n",
    "* 성능지표 : RMSE, R-squared Score(소수점 5째자리까지)"
   ]
  },
  {
   "cell_type": "code",
   "execution_count": 32,
   "id": "continent-olympus",
   "metadata": {},
   "outputs": [
    {
     "name": "stderr",
     "output_type": "stream",
     "text": [
      "C:\\Users\\User\\AppData\\Roaming\\Python\\Python39\\site-packages\\sklearn\\ensemble\\_gb.py:437: DataConversionWarning: A column-vector y was passed when a 1d array was expected. Please change the shape of y to (n_samples, ), for example using ravel().\n",
      "  y = column_or_1d(y, warn=True)\n"
     ]
    },
    {
     "data": {
      "text/html": [
       "<style>#sk-container-id-3 {color: black;background-color: white;}#sk-container-id-3 pre{padding: 0;}#sk-container-id-3 div.sk-toggleable {background-color: white;}#sk-container-id-3 label.sk-toggleable__label {cursor: pointer;display: block;width: 100%;margin-bottom: 0;padding: 0.3em;box-sizing: border-box;text-align: center;}#sk-container-id-3 label.sk-toggleable__label-arrow:before {content: \"▸\";float: left;margin-right: 0.25em;color: #696969;}#sk-container-id-3 label.sk-toggleable__label-arrow:hover:before {color: black;}#sk-container-id-3 div.sk-estimator:hover label.sk-toggleable__label-arrow:before {color: black;}#sk-container-id-3 div.sk-toggleable__content {max-height: 0;max-width: 0;overflow: hidden;text-align: left;background-color: #f0f8ff;}#sk-container-id-3 div.sk-toggleable__content pre {margin: 0.2em;color: black;border-radius: 0.25em;background-color: #f0f8ff;}#sk-container-id-3 input.sk-toggleable__control:checked~div.sk-toggleable__content {max-height: 200px;max-width: 100%;overflow: auto;}#sk-container-id-3 input.sk-toggleable__control:checked~label.sk-toggleable__label-arrow:before {content: \"▾\";}#sk-container-id-3 div.sk-estimator input.sk-toggleable__control:checked~label.sk-toggleable__label {background-color: #d4ebff;}#sk-container-id-3 div.sk-label input.sk-toggleable__control:checked~label.sk-toggleable__label {background-color: #d4ebff;}#sk-container-id-3 input.sk-hidden--visually {border: 0;clip: rect(1px 1px 1px 1px);clip: rect(1px, 1px, 1px, 1px);height: 1px;margin: -1px;overflow: hidden;padding: 0;position: absolute;width: 1px;}#sk-container-id-3 div.sk-estimator {font-family: monospace;background-color: #f0f8ff;border: 1px dotted black;border-radius: 0.25em;box-sizing: border-box;margin-bottom: 0.5em;}#sk-container-id-3 div.sk-estimator:hover {background-color: #d4ebff;}#sk-container-id-3 div.sk-parallel-item::after {content: \"\";width: 100%;border-bottom: 1px solid gray;flex-grow: 1;}#sk-container-id-3 div.sk-label:hover label.sk-toggleable__label {background-color: #d4ebff;}#sk-container-id-3 div.sk-serial::before {content: \"\";position: absolute;border-left: 1px solid gray;box-sizing: border-box;top: 0;bottom: 0;left: 50%;z-index: 0;}#sk-container-id-3 div.sk-serial {display: flex;flex-direction: column;align-items: center;background-color: white;padding-right: 0.2em;padding-left: 0.2em;position: relative;}#sk-container-id-3 div.sk-item {position: relative;z-index: 1;}#sk-container-id-3 div.sk-parallel {display: flex;align-items: stretch;justify-content: center;background-color: white;position: relative;}#sk-container-id-3 div.sk-item::before, #sk-container-id-3 div.sk-parallel-item::before {content: \"\";position: absolute;border-left: 1px solid gray;box-sizing: border-box;top: 0;bottom: 0;left: 50%;z-index: -1;}#sk-container-id-3 div.sk-parallel-item {display: flex;flex-direction: column;z-index: 1;position: relative;background-color: white;}#sk-container-id-3 div.sk-parallel-item:first-child::after {align-self: flex-end;width: 50%;}#sk-container-id-3 div.sk-parallel-item:last-child::after {align-self: flex-start;width: 50%;}#sk-container-id-3 div.sk-parallel-item:only-child::after {width: 0;}#sk-container-id-3 div.sk-dashed-wrapped {border: 1px dashed gray;margin: 0 0.4em 0.5em 0.4em;box-sizing: border-box;padding-bottom: 0.4em;background-color: white;}#sk-container-id-3 div.sk-label label {font-family: monospace;font-weight: bold;display: inline-block;line-height: 1.2em;}#sk-container-id-3 div.sk-label-container {text-align: center;}#sk-container-id-3 div.sk-container {/* jupyter's `normalize.less` sets `[hidden] { display: none; }` but bootstrap.min.css set `[hidden] { display: none !important; }` so we also need the `!important` here to be able to override the default hidden behavior on the sphinx rendered scikit-learn.org. See: https://github.com/scikit-learn/scikit-learn/issues/21755 */display: inline-block !important;position: relative;}#sk-container-id-3 div.sk-text-repr-fallback {display: none;}</style><div id=\"sk-container-id-3\" class=\"sk-top-container\"><div class=\"sk-text-repr-fallback\"><pre>GradientBoostingRegressor()</pre><b>In a Jupyter environment, please rerun this cell to show the HTML representation or trust the notebook. <br />On GitHub, the HTML representation is unable to render, please try loading this page with nbviewer.org.</b></div><div class=\"sk-container\" hidden><div class=\"sk-item\"><div class=\"sk-estimator sk-toggleable\"><input class=\"sk-toggleable__control sk-hidden--visually\" id=\"sk-estimator-id-3\" type=\"checkbox\" checked><label for=\"sk-estimator-id-3\" class=\"sk-toggleable__label sk-toggleable__label-arrow\">GradientBoostingRegressor</label><div class=\"sk-toggleable__content\"><pre>GradientBoostingRegressor()</pre></div></div></div></div></div>"
      ],
      "text/plain": [
       "GradientBoostingRegressor()"
      ]
     },
     "execution_count": 32,
     "metadata": {},
     "output_type": "execute_result"
    }
   ],
   "source": [
    "# 아래에 필요한 코드를 작성하고 결과를 확인합니다.\n",
    "model = GBR()\n",
    "model.fit(x_train, y_train)"
   ]
  },
  {
   "cell_type": "code",
   "execution_count": 33,
   "id": "20bc6d41-22a8-4ee8-80a0-8c117ba46b8d",
   "metadata": {},
   "outputs": [],
   "source": [
    "y_pred = model.predict(x_test)"
   ]
  },
  {
   "cell_type": "code",
   "execution_count": 37,
   "id": "241dbcdc",
   "metadata": {},
   "outputs": [
    {
     "name": "stdout",
     "output_type": "stream",
     "text": [
      "rmse:  7.977901418020879\n",
      "r2-score:  0.8883639916011857\n"
     ]
    }
   ],
   "source": [
    "# Test 데이터로 성능을 평가해보세요.\n",
    "print('rmse: ', mse(y_test, y_pred)**0.5)\n",
    "print('r2-score: ', r2_score(y_test, y_pred))"
   ]
  },
  {
   "cell_type": "code",
   "execution_count": 44,
   "id": "9bdccb80",
   "metadata": {},
   "outputs": [
    {
     "ename": "NameError",
     "evalue": "name 'GridSearchCV' is not defined",
     "output_type": "error",
     "traceback": [
      "\u001b[1;31m---------------------------------------------------------------------------\u001b[0m",
      "\u001b[1;31mNameError\u001b[0m                                 Traceback (most recent call last)",
      "Cell \u001b[1;32mIn[44], line 4\u001b[0m\n\u001b[0;32m      1\u001b[0m \u001b[38;5;66;03m# 학습한 모델을 파일로 저장해보세요.\u001b[39;00m\n\u001b[1;32m----> 4\u001b[0m model_gs \u001b[38;5;241m=\u001b[39m \u001b[43mGridSearchCV\u001b[49m(model,\n\u001b[0;32m      5\u001b[0m                     param,\n\u001b[0;32m      6\u001b[0m                     cv\u001b[38;5;241m=\u001b[39m \u001b[38;5;241m10\u001b[39m,\n\u001b[0;32m      7\u001b[0m                     scoring\u001b[38;5;241m=\u001b[39m\u001b[38;5;124m'\u001b[39m\u001b[38;5;124mr2\u001b[39m\u001b[38;5;124m'\u001b[39m)\n",
      "\u001b[1;31mNameError\u001b[0m: name 'GridSearchCV' is not defined"
     ]
    }
   ],
   "source": [
    "# 학습한 모델을 파일로 저장해보세요.\n",
    "\n",
    "\n",
    "model_gs = GridSearchCV(model,\n",
    "                    param,\n",
    "                    cv= 10,\n",
    "                    scoring='r2')"
   ]
  },
  {
   "cell_type": "code",
   "execution_count": 20,
   "id": "8deba58d",
   "metadata": {},
   "outputs": [],
   "source": [
    "# (다음 진행은 선택입니다)\n",
    "# 그라디언트부스팅으로 학습한 모델의 feature_importances를 구해보세요.\n",
    "# 확인할 수 있는 내용으로 우리 모델에서의 인사이트를 정리해보세요.\n",
    "# Feature의 중요도 확인\n",
    "\n",
    "\n"
   ]
  },
  {
   "cell_type": "code",
   "execution_count": 21,
   "id": "9d1bfe7d",
   "metadata": {
    "tags": []
   },
   "outputs": [],
   "source": [
    "# 확인할 수 있는 인사이트\n",
    "# 1.\n",
    "# 2.\n",
    "# 3."
   ]
  },
  {
   "cell_type": "markdown",
   "id": "eb89852b-b155-4f0a-aaef-2a035caccda7",
   "metadata": {
    "tags": []
   },
   "source": [
    "#### **<span style=\"color:blue\">(선택 수행)[4-3] 모델링: Self Choice Model</span>**"
   ]
  },
  {
   "cell_type": "markdown",
   "id": "305bbd5b",
   "metadata": {},
   "source": [
    "* Self Choice Model: 앞선 교육과정에서 배운 머신러닝 모델 중 어떤 것이든 좋습니다. 원하는 모델을 선택해서 학습을 시켜보세요.\n",
    "* Train과 Test로 나눈 데이터를 기준으로 Self Choice Model로 모델을 학습을 진행하고 평가를 해주세요.\n",
    "* 그리고 모델 파일을 pkl로 저장해주세요.\n",
    "* 성능지표 : RMSE, R-squared Score(소수점 5째자리까지)"
   ]
  },
  {
   "cell_type": "code",
   "execution_count": 42,
   "id": "a2c66605",
   "metadata": {},
   "outputs": [],
   "source": [
    "# 아래에 필요한 코드를 작성하고 결과를 확인합니다.\n",
    "from sklearn.neighbors import KNeighborsRegressor\n",
    "\n",
    "model = KNeighborsRegressor()\n",
    "model.fit(x_train, y_train)\n",
    "y_pred = model.predict(x_test)"
   ]
  },
  {
   "cell_type": "code",
   "execution_count": 43,
   "id": "546ac8bf",
   "metadata": {},
   "outputs": [
    {
     "name": "stdout",
     "output_type": "stream",
     "text": [
      "rmse:  10.469935795197387\n",
      "r2-score:  0.8077284596291252\n"
     ]
    }
   ],
   "source": [
    "# Test 데이터로 성능을 평가해보세요.\n",
    "print('rmse: ', mse(y_test, y_pred)**0.5)\n",
    "print('r2-score: ', r2_score(y_test, y_pred))"
   ]
  },
  {
   "cell_type": "code",
   "execution_count": 24,
   "id": "e69d0d7c",
   "metadata": {},
   "outputs": [],
   "source": [
    "# 학습한 모델을 파일로 저장해보세요.\n",
    "\n",
    "\n"
   ]
  },
  {
   "cell_type": "code",
   "execution_count": 25,
   "id": "f83b16b7",
   "metadata": {},
   "outputs": [],
   "source": [
    "# (다음 진행은 선택입니다)\n",
    "# 그라디언트부스팅으로 학습한 모델의 feature_importances를 구해보세요.\n",
    "# 확인할 수 있는 내용으로 우리 모델에서의 인사이트를 정리해보세요.\n",
    "# Feature의 중요도 확인\n",
    "\n"
   ]
  },
  {
   "cell_type": "code",
   "execution_count": 26,
   "id": "67e6d924",
   "metadata": {},
   "outputs": [],
   "source": [
    "# Feature의 중요도 확인\n",
    "\n",
    "\n",
    "\n"
   ]
  },
  {
   "cell_type": "code",
   "execution_count": 27,
   "id": "a8ac782c",
   "metadata": {},
   "outputs": [],
   "source": [
    "# 확인할 수 있는 인사이트\n",
    "# 1.\n",
    "# 2.\n",
    "# 3."
   ]
  },
  {
   "cell_type": "markdown",
   "id": "c07895fa-d831-4d9c-9bcf-9ec2d7eda2ec",
   "metadata": {
    "tags": []
   },
   "source": [
    "#### **<span style=\"color:blue\">(선택 수행)[4-4] 머신러닝 모델에 대해 성능 최적화 진행</span>**"
   ]
  },
  {
   "cell_type": "markdown",
   "id": "aacb4f2a-d979-4365-85e6-28d64953e741",
   "metadata": {},
   "source": [
    "* 위 머신러닝 모델들에 대해 성능 최적화를 진행해보세요."
   ]
  },
  {
   "cell_type": "code",
   "execution_count": 28,
   "id": "50346246-e00c-44d3-be09-252981be1272",
   "metadata": {},
   "outputs": [],
   "source": [
    "# 아래에 필요한 코드를 작성하고 결과를 확인합니다.\n",
    "\n"
   ]
  },
  {
   "cell_type": "code",
   "execution_count": null,
   "id": "5b378a04-f857-4fba-88c4-3c872ce1d879",
   "metadata": {},
   "outputs": [],
   "source": []
  }
 ],
 "metadata": {
  "kernelspec": {
   "display_name": "Python 3 (ipykernel)",
   "language": "python",
   "name": "python3"
  },
  "language_info": {
   "codemirror_mode": {
    "name": "ipython",
    "version": 3
   },
   "file_extension": ".py",
   "mimetype": "text/x-python",
   "name": "python",
   "nbconvert_exporter": "python",
   "pygments_lexer": "ipython3",
   "version": "3.9.13"
  },
  "vscode": {
   "interpreter": {
    "hash": "f08154012ddadd8e950e6e9e035c7a7b32c136e7647e9b7c77e02eb723a8bedb"
   }
  }
 },
 "nbformat": 4,
 "nbformat_minor": 5
}
