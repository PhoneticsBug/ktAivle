{
 "cells": [
  {
   "cell_type": "markdown",
   "id": "boxed-jamaica",
   "metadata": {},
   "source": [
    "# 안녕하세요^^ \n",
    "## AIVLE 미니프로젝트 '서울시 생활정보 기반 대중교통 수요 분석 ' 과정에 오신 여러분을 환영합니다.\n",
    "* 본 과정에서는 실제 사례와 데이터를 기반으로 문제를 해결하는 전체 과정을 자기 주도형 실습으로 진행해볼 예정입니다.\n",
    "* 앞선 교육과정을 정리하는 마음과 지금까지 배운 내용을 바탕으로 문제 해결을 해볼게요!\n",
    "* 미니 프로젝트를 통한 문제 해결 과정 'A에서 Z까지', 지금부터 시작합니다!\n",
    "\n",
    "## 개인과제\n",
    "* 데이터 구조, 분포 확인, 전처리 : 1.1_버스정류장데이터 / 1.2 유동인구데이터 / 1.3_주민등록데이터 / 1.4_업종등록데이터\n",
    "* 데이터간 관계 가설 수립 및 검증 : 1.5_데이터 분석"
   ]
  },
  {
   "cell_type": "markdown",
   "id": "ef575059",
   "metadata": {},
   "source": [
    "---"
   ]
  },
  {
   "cell_type": "markdown",
   "id": "f2bc4fa5",
   "metadata": {},
   "source": [
    "# 데이터 분석부터 먼저 시작해보겠습니다.\n",
    "## \"구 별 유동인구 데이터\" 를 확인해 보도록 하겠습니다"
   ]
  },
  {
   "cell_type": "code",
   "execution_count": 33,
   "id": "4c6ced42",
   "metadata": {},
   "outputs": [],
   "source": [
    "# 필요 라이브러리부터 설치합니다.\n",
    "# %pip install pandas seaborn\n",
    "\n",
    "import sys\n",
    "import numpy as np\n",
    "import pandas as pd\n",
    "import matplotlib.pyplot as plt\n",
    "import seaborn as sns"
   ]
  },
  {
   "cell_type": "markdown",
   "id": "revolutionary-farmer",
   "metadata": {},
   "source": [
    "## 기본전제\n",
    "\n",
    "[기본 데이터]\n",
    "* 1.2 seoul_moving_month_4.csv\n",
    "\n",
    "[데이터 소개]\n",
    "* 서울 시 구별 이동 2022년 4월 데이터\n",
    "\n",
    "[변수 소개]\n",
    "* 도착시간 : 0 -> \"0:00~0:59\"를 의미 \n",
    "* 출발 자치구 : 자치구 코드\n",
    "* 성별 : F(여성), M(남성)\n",
    "* 나이 : 10 ~ 79세 (5세 단위), 0 ~ 10세, 80세 이상으로 구분\n",
    "    - 0세 = 0~9세, 80세 = 80~세\n",
    "* 유형 : H(야간상주지), W(주간상주지), E(기타)\n",
    "* 평균 이동 시간 : 동일 열 내 이동인구의 월 단위 평균 이동 시간 (10분단위)\n",
    "* 이동인구 : 추정 합산값으로 소수점 표출, 개인정보 비식별화를 위해 3명 미만의 경우 * 처리"
   ]
  },
  {
   "cell_type": "markdown",
   "id": "matched-broad",
   "metadata": {},
   "source": [
    "---"
   ]
  },
  {
   "cell_type": "markdown",
   "id": "warming-gentleman",
   "metadata": {},
   "source": [
    "# 1.데이터 불러오기\n",
    "## 모든 미니 프로젝트의 시작은 '데이터 불러오기' 부터라고 할 수 있습니다.\n",
    "+ KeyPoint : 불러오고자 하는 데이터에 따라 자유롭게 변수로 지정할 수 있다."
   ]
  },
  {
   "cell_type": "markdown",
   "id": "measured-administration",
   "metadata": {},
   "source": [
    "###  데이터 프레임을 불러오고 변수로 저장(여기서는 CSV 기준으로 진행)\n",
    "* csv : pd.read_csv(\"파일이름. csv\")\n",
    "* txt : pd.read_csv(\"파일이름. csv\", sep=\"구분자\")\n",
    "* xlsx : pd.read_excel('파일이름.xlsx')\n",
    "* pickle : pd.read_pickle(\"파일이름.pkl\") <br>\n",
    " [참고] pickle은 파이썬의 모든 객체를 파일로 저장할 수 있는 방법으로 DataFrame,List,Dict 등 모든 객체 저장 가능(특히 sklearn라이브러리를 통해 모델을 학습시키고, 저장할 때 많이 사용)"
   ]
  },
  {
   "cell_type": "markdown",
   "id": "vocational-animal",
   "metadata": {},
   "source": [
    "#### [실습문제1] 데이터 로딩\n",
    "* Pandas 라이브러리를 활용해서 'seoul_moving_month_4_step1.csv' 데이터를 확인하세요.\n",
    "    * 아래에 'Pandas'를 Import하고 '1.2 seoul_moving_month_4.csv'파일을 'seoul_moving'에 불러오고,  Shape을 확인하는 소스코드를 작성하고 실행해보세요.\n",
    "    * 데이터 파일 로딩시 참고 사항 \n",
    "        * 구분자(sep)는 ',' 입니다\n",
    "        * UTF-8 인코더를 사용해 주세요\n",
    "        * index column은 0번 열 입니다"
   ]
  },
  {
   "cell_type": "code",
   "execution_count": 34,
   "id": "saving-slope",
   "metadata": {},
   "outputs": [
    {
     "data": {
      "text/html": [
       "<div>\n",
       "<style scoped>\n",
       "    .dataframe tbody tr th:only-of-type {\n",
       "        vertical-align: middle;\n",
       "    }\n",
       "\n",
       "    .dataframe tbody tr th {\n",
       "        vertical-align: top;\n",
       "    }\n",
       "\n",
       "    .dataframe thead th {\n",
       "        text-align: right;\n",
       "    }\n",
       "</style>\n",
       "<table border=\"1\" class=\"dataframe\">\n",
       "  <thead>\n",
       "    <tr style=\"text-align: right;\">\n",
       "      <th></th>\n",
       "      <th>Unnamed: 0</th>\n",
       "      <th>대상연월</th>\n",
       "      <th>요일</th>\n",
       "      <th>도착시간</th>\n",
       "      <th>출발 시군구 코드</th>\n",
       "      <th>도착 시군구 코드</th>\n",
       "      <th>성별</th>\n",
       "      <th>나이</th>\n",
       "      <th>이동유형</th>\n",
       "      <th>평균 이동 시간(분)</th>\n",
       "      <th>이동인구(합)</th>\n",
       "    </tr>\n",
       "  </thead>\n",
       "  <tbody>\n",
       "    <tr>\n",
       "      <th>0</th>\n",
       "      <td>0</td>\n",
       "      <td>202204</td>\n",
       "      <td>일</td>\n",
       "      <td>0</td>\n",
       "      <td>11010</td>\n",
       "      <td>11010</td>\n",
       "      <td>F</td>\n",
       "      <td>0</td>\n",
       "      <td>EE</td>\n",
       "      <td>10</td>\n",
       "      <td>28.02</td>\n",
       "    </tr>\n",
       "    <tr>\n",
       "      <th>1</th>\n",
       "      <td>1</td>\n",
       "      <td>202204</td>\n",
       "      <td>일</td>\n",
       "      <td>0</td>\n",
       "      <td>11010</td>\n",
       "      <td>11010</td>\n",
       "      <td>F</td>\n",
       "      <td>0</td>\n",
       "      <td>EH</td>\n",
       "      <td>10</td>\n",
       "      <td>27.52</td>\n",
       "    </tr>\n",
       "    <tr>\n",
       "      <th>2</th>\n",
       "      <td>2</td>\n",
       "      <td>202204</td>\n",
       "      <td>일</td>\n",
       "      <td>0</td>\n",
       "      <td>11010</td>\n",
       "      <td>11010</td>\n",
       "      <td>F</td>\n",
       "      <td>0</td>\n",
       "      <td>HE</td>\n",
       "      <td>10</td>\n",
       "      <td>27.83</td>\n",
       "    </tr>\n",
       "    <tr>\n",
       "      <th>3</th>\n",
       "      <td>3</td>\n",
       "      <td>202204</td>\n",
       "      <td>일</td>\n",
       "      <td>0</td>\n",
       "      <td>11010</td>\n",
       "      <td>11010</td>\n",
       "      <td>F</td>\n",
       "      <td>10</td>\n",
       "      <td>HW</td>\n",
       "      <td>10</td>\n",
       "      <td>6.05</td>\n",
       "    </tr>\n",
       "    <tr>\n",
       "      <th>4</th>\n",
       "      <td>4</td>\n",
       "      <td>202204</td>\n",
       "      <td>일</td>\n",
       "      <td>0</td>\n",
       "      <td>11010</td>\n",
       "      <td>11010</td>\n",
       "      <td>F</td>\n",
       "      <td>10</td>\n",
       "      <td>EH</td>\n",
       "      <td>90</td>\n",
       "      <td>5.95</td>\n",
       "    </tr>\n",
       "    <tr>\n",
       "      <th>...</th>\n",
       "      <td>...</td>\n",
       "      <td>...</td>\n",
       "      <td>...</td>\n",
       "      <td>...</td>\n",
       "      <td>...</td>\n",
       "      <td>...</td>\n",
       "      <td>...</td>\n",
       "      <td>...</td>\n",
       "      <td>...</td>\n",
       "      <td>...</td>\n",
       "      <td>...</td>\n",
       "    </tr>\n",
       "    <tr>\n",
       "      <th>28923049</th>\n",
       "      <td>968458</td>\n",
       "      <td>202204</td>\n",
       "      <td>토</td>\n",
       "      <td>23</td>\n",
       "      <td>39000</td>\n",
       "      <td>11250</td>\n",
       "      <td>M</td>\n",
       "      <td>45</td>\n",
       "      <td>EH</td>\n",
       "      <td>50</td>\n",
       "      <td>3.16</td>\n",
       "    </tr>\n",
       "    <tr>\n",
       "      <th>28923050</th>\n",
       "      <td>968459</td>\n",
       "      <td>202204</td>\n",
       "      <td>토</td>\n",
       "      <td>23</td>\n",
       "      <td>39000</td>\n",
       "      <td>11250</td>\n",
       "      <td>M</td>\n",
       "      <td>50</td>\n",
       "      <td>EH</td>\n",
       "      <td>70</td>\n",
       "      <td>3.27</td>\n",
       "    </tr>\n",
       "    <tr>\n",
       "      <th>28923051</th>\n",
       "      <td>968460</td>\n",
       "      <td>202204</td>\n",
       "      <td>토</td>\n",
       "      <td>23</td>\n",
       "      <td>39000</td>\n",
       "      <td>11250</td>\n",
       "      <td>M</td>\n",
       "      <td>55</td>\n",
       "      <td>EE</td>\n",
       "      <td>50</td>\n",
       "      <td>3.31</td>\n",
       "    </tr>\n",
       "    <tr>\n",
       "      <th>28923052</th>\n",
       "      <td>968461</td>\n",
       "      <td>202204</td>\n",
       "      <td>토</td>\n",
       "      <td>23</td>\n",
       "      <td>39000</td>\n",
       "      <td>11250</td>\n",
       "      <td>M</td>\n",
       "      <td>55</td>\n",
       "      <td>EH</td>\n",
       "      <td>50</td>\n",
       "      <td>3.28</td>\n",
       "    </tr>\n",
       "    <tr>\n",
       "      <th>28923053</th>\n",
       "      <td>968462</td>\n",
       "      <td>202204</td>\n",
       "      <td>토</td>\n",
       "      <td>23</td>\n",
       "      <td>39000</td>\n",
       "      <td>11250</td>\n",
       "      <td>M</td>\n",
       "      <td>75</td>\n",
       "      <td>EH</td>\n",
       "      <td>30</td>\n",
       "      <td>5.94</td>\n",
       "    </tr>\n",
       "  </tbody>\n",
       "</table>\n",
       "<p>28923054 rows × 11 columns</p>\n",
       "</div>"
      ],
      "text/plain": [
       "          Unnamed: 0    대상연월 요일  도착시간  출발 시군구 코드  도착 시군구 코드 성별  나이 이동유형  \\\n",
       "0                  0  202204  일     0      11010      11010  F   0   EE   \n",
       "1                  1  202204  일     0      11010      11010  F   0   EH   \n",
       "2                  2  202204  일     0      11010      11010  F   0   HE   \n",
       "3                  3  202204  일     0      11010      11010  F  10   HW   \n",
       "4                  4  202204  일     0      11010      11010  F  10   EH   \n",
       "...              ...     ... ..   ...        ...        ... ..  ..  ...   \n",
       "28923049      968458  202204  토    23      39000      11250  M  45   EH   \n",
       "28923050      968459  202204  토    23      39000      11250  M  50   EH   \n",
       "28923051      968460  202204  토    23      39000      11250  M  55   EE   \n",
       "28923052      968461  202204  토    23      39000      11250  M  55   EH   \n",
       "28923053      968462  202204  토    23      39000      11250  M  75   EH   \n",
       "\n",
       "          평균 이동 시간(분) 이동인구(합)  \n",
       "0                  10   28.02  \n",
       "1                  10   27.52  \n",
       "2                  10   27.83  \n",
       "3                  10    6.05  \n",
       "4                  90    5.95  \n",
       "...               ...     ...  \n",
       "28923049           50    3.16  \n",
       "28923050           70    3.27  \n",
       "28923051           50    3.31  \n",
       "28923052           50    3.28  \n",
       "28923053           30    5.94  \n",
       "\n",
       "[28923054 rows x 11 columns]"
      ]
     },
     "execution_count": 34,
     "metadata": {},
     "output_type": "execute_result"
    }
   ],
   "source": [
    "# 아래에 실습코드를 작성하고 결과를 확인합니다.\n",
    "import pandas as pd\n",
    "movement = pd.read_csv('C:/Users/User/iCloudDrive/AIVLE/3주차/2023.02.13_미니프로젝트1차_실습자료/1.2 seoul_moving_month_4.csv')\n",
    "movement\n"
   ]
  },
  {
   "cell_type": "code",
   "execution_count": 35,
   "id": "16ae0fc6",
   "metadata": {},
   "outputs": [
    {
     "data": {
      "text/plain": [
       "토    4690806\n",
       "금    4641881\n",
       "목    4011291\n",
       "수    3955646\n",
       "화    3926876\n",
       "월    3906272\n",
       "일    3790282\n",
       "Name: 요일, dtype: int64"
      ]
     },
     "execution_count": 35,
     "metadata": {},
     "output_type": "execute_result"
    }
   ],
   "source": [
    "movement['요일'].value_counts()"
   ]
  },
  {
   "cell_type": "code",
   "execution_count": 36,
   "id": "funny-subcommittee",
   "metadata": {},
   "outputs": [
    {
     "data": {
      "text/html": [
       "<div>\n",
       "<style scoped>\n",
       "    .dataframe tbody tr th:only-of-type {\n",
       "        vertical-align: middle;\n",
       "    }\n",
       "\n",
       "    .dataframe tbody tr th {\n",
       "        vertical-align: top;\n",
       "    }\n",
       "\n",
       "    .dataframe thead th {\n",
       "        text-align: right;\n",
       "    }\n",
       "</style>\n",
       "<table border=\"1\" class=\"dataframe\">\n",
       "  <thead>\n",
       "    <tr style=\"text-align: right;\">\n",
       "      <th></th>\n",
       "      <th>Unnamed: 0</th>\n",
       "      <th>대상연월</th>\n",
       "      <th>도착시간</th>\n",
       "      <th>출발 시군구 코드</th>\n",
       "      <th>도착 시군구 코드</th>\n",
       "      <th>나이</th>\n",
       "      <th>평균 이동 시간(분)</th>\n",
       "    </tr>\n",
       "  </thead>\n",
       "  <tbody>\n",
       "    <tr>\n",
       "      <th>count</th>\n",
       "      <td>2.892305e+07</td>\n",
       "      <td>28923054.0</td>\n",
       "      <td>2.892305e+07</td>\n",
       "      <td>2.892305e+07</td>\n",
       "      <td>2.892305e+07</td>\n",
       "      <td>2.892305e+07</td>\n",
       "      <td>2.892305e+07</td>\n",
       "    </tr>\n",
       "    <tr>\n",
       "      <th>mean</th>\n",
       "      <td>7.141390e+05</td>\n",
       "      <td>202204.0</td>\n",
       "      <td>1.365597e+01</td>\n",
       "      <td>1.712362e+04</td>\n",
       "      <td>1.719750e+04</td>\n",
       "      <td>4.279614e+01</td>\n",
       "      <td>3.279829e+01</td>\n",
       "    </tr>\n",
       "    <tr>\n",
       "      <th>std</th>\n",
       "      <td>4.753792e+05</td>\n",
       "      <td>0.0</td>\n",
       "      <td>5.849675e+00</td>\n",
       "      <td>9.046478e+03</td>\n",
       "      <td>9.063818e+03</td>\n",
       "      <td>1.777485e+01</td>\n",
       "      <td>2.584213e+01</td>\n",
       "    </tr>\n",
       "    <tr>\n",
       "      <th>min</th>\n",
       "      <td>0.000000e+00</td>\n",
       "      <td>202204.0</td>\n",
       "      <td>0.000000e+00</td>\n",
       "      <td>1.101000e+04</td>\n",
       "      <td>1.101000e+04</td>\n",
       "      <td>0.000000e+00</td>\n",
       "      <td>1.000000e+01</td>\n",
       "    </tr>\n",
       "    <tr>\n",
       "      <th>25%</th>\n",
       "      <td>3.012810e+05</td>\n",
       "      <td>202204.0</td>\n",
       "      <td>1.000000e+01</td>\n",
       "      <td>1.110000e+04</td>\n",
       "      <td>1.111000e+04</td>\n",
       "      <td>3.000000e+01</td>\n",
       "      <td>2.000000e+01</td>\n",
       "    </tr>\n",
       "    <tr>\n",
       "      <th>50%</th>\n",
       "      <td>6.556670e+05</td>\n",
       "      <td>202204.0</td>\n",
       "      <td>1.400000e+01</td>\n",
       "      <td>1.120000e+04</td>\n",
       "      <td>1.120000e+04</td>\n",
       "      <td>4.500000e+01</td>\n",
       "      <td>3.000000e+01</td>\n",
       "    </tr>\n",
       "    <tr>\n",
       "      <th>75%</th>\n",
       "      <td>1.082991e+06</td>\n",
       "      <td>202204.0</td>\n",
       "      <td>1.800000e+01</td>\n",
       "      <td>3.101400e+04</td>\n",
       "      <td>3.102100e+04</td>\n",
       "      <td>5.500000e+01</td>\n",
       "      <td>4.000000e+01</td>\n",
       "    </tr>\n",
       "    <tr>\n",
       "      <th>max</th>\n",
       "      <td>1.871922e+06</td>\n",
       "      <td>202204.0</td>\n",
       "      <td>2.300000e+01</td>\n",
       "      <td>3.900000e+04</td>\n",
       "      <td>3.900000e+04</td>\n",
       "      <td>8.000000e+01</td>\n",
       "      <td>7.700000e+02</td>\n",
       "    </tr>\n",
       "  </tbody>\n",
       "</table>\n",
       "</div>"
      ],
      "text/plain": [
       "         Unnamed: 0        대상연월          도착시간     출발 시군구 코드     도착 시군구 코드  \\\n",
       "count  2.892305e+07  28923054.0  2.892305e+07  2.892305e+07  2.892305e+07   \n",
       "mean   7.141390e+05    202204.0  1.365597e+01  1.712362e+04  1.719750e+04   \n",
       "std    4.753792e+05         0.0  5.849675e+00  9.046478e+03  9.063818e+03   \n",
       "min    0.000000e+00    202204.0  0.000000e+00  1.101000e+04  1.101000e+04   \n",
       "25%    3.012810e+05    202204.0  1.000000e+01  1.110000e+04  1.111000e+04   \n",
       "50%    6.556670e+05    202204.0  1.400000e+01  1.120000e+04  1.120000e+04   \n",
       "75%    1.082991e+06    202204.0  1.800000e+01  3.101400e+04  3.102100e+04   \n",
       "max    1.871922e+06    202204.0  2.300000e+01  3.900000e+04  3.900000e+04   \n",
       "\n",
       "                 나이   평균 이동 시간(분)  \n",
       "count  2.892305e+07  2.892305e+07  \n",
       "mean   4.279614e+01  3.279829e+01  \n",
       "std    1.777485e+01  2.584213e+01  \n",
       "min    0.000000e+00  1.000000e+01  \n",
       "25%    3.000000e+01  2.000000e+01  \n",
       "50%    4.500000e+01  3.000000e+01  \n",
       "75%    5.500000e+01  4.000000e+01  \n",
       "max    8.000000e+01  7.700000e+02  "
      ]
     },
     "execution_count": 36,
     "metadata": {},
     "output_type": "execute_result"
    }
   ],
   "source": [
    "# 데이터 프레임의 Shape을 확인합니다.\n",
    "movement.describe()"
   ]
  },
  {
   "cell_type": "code",
   "execution_count": 37,
   "id": "8c4d249c",
   "metadata": {},
   "outputs": [
    {
     "data": {
      "text/plain": [
       "(28923054, 11)"
      ]
     },
     "execution_count": 37,
     "metadata": {},
     "output_type": "execute_result"
    }
   ],
   "source": [
    "movement.shape"
   ]
  },
  {
   "cell_type": "markdown",
   "id": "73396b42",
   "metadata": {},
   "source": [
    "---"
   ]
  },
  {
   "cell_type": "markdown",
   "id": "annoying-trout",
   "metadata": {},
   "source": [
    "# 2.기본 정보 확인 및 클렌징\n",
    "\n",
    "+ 데이터 클렌징 : 결측치, 이상치 등을 제거하여 데이터 분석 결과가 왜곡 되는 문제를 방지하기 위한 정제 과정"
   ]
  },
  {
   "cell_type": "markdown",
   "id": "romantic-johnson",
   "metadata": {},
   "source": [
    "#### [실습문제2] 기본 정보 확인하기\n",
    "* 'seoul_moving' 데이터의 정보를 확인해보세요.\n",
    "* 'describe', 'info', 'head' 등 전부 활용해 보겠습니다."
   ]
  },
  {
   "cell_type": "code",
   "execution_count": 38,
   "id": "demographic-battery",
   "metadata": {},
   "outputs": [
    {
     "data": {
      "text/html": [
       "<div>\n",
       "<style scoped>\n",
       "    .dataframe tbody tr th:only-of-type {\n",
       "        vertical-align: middle;\n",
       "    }\n",
       "\n",
       "    .dataframe tbody tr th {\n",
       "        vertical-align: top;\n",
       "    }\n",
       "\n",
       "    .dataframe thead th {\n",
       "        text-align: right;\n",
       "    }\n",
       "</style>\n",
       "<table border=\"1\" class=\"dataframe\">\n",
       "  <thead>\n",
       "    <tr style=\"text-align: right;\">\n",
       "      <th></th>\n",
       "      <th>Unnamed: 0</th>\n",
       "      <th>대상연월</th>\n",
       "      <th>도착시간</th>\n",
       "      <th>출발 시군구 코드</th>\n",
       "      <th>도착 시군구 코드</th>\n",
       "      <th>나이</th>\n",
       "      <th>평균 이동 시간(분)</th>\n",
       "    </tr>\n",
       "  </thead>\n",
       "  <tbody>\n",
       "    <tr>\n",
       "      <th>count</th>\n",
       "      <td>2.892305e+07</td>\n",
       "      <td>28923054.0</td>\n",
       "      <td>2.892305e+07</td>\n",
       "      <td>2.892305e+07</td>\n",
       "      <td>2.892305e+07</td>\n",
       "      <td>2.892305e+07</td>\n",
       "      <td>2.892305e+07</td>\n",
       "    </tr>\n",
       "    <tr>\n",
       "      <th>mean</th>\n",
       "      <td>7.141390e+05</td>\n",
       "      <td>202204.0</td>\n",
       "      <td>1.365597e+01</td>\n",
       "      <td>1.712362e+04</td>\n",
       "      <td>1.719750e+04</td>\n",
       "      <td>4.279614e+01</td>\n",
       "      <td>3.279829e+01</td>\n",
       "    </tr>\n",
       "    <tr>\n",
       "      <th>std</th>\n",
       "      <td>4.753792e+05</td>\n",
       "      <td>0.0</td>\n",
       "      <td>5.849675e+00</td>\n",
       "      <td>9.046478e+03</td>\n",
       "      <td>9.063818e+03</td>\n",
       "      <td>1.777485e+01</td>\n",
       "      <td>2.584213e+01</td>\n",
       "    </tr>\n",
       "    <tr>\n",
       "      <th>min</th>\n",
       "      <td>0.000000e+00</td>\n",
       "      <td>202204.0</td>\n",
       "      <td>0.000000e+00</td>\n",
       "      <td>1.101000e+04</td>\n",
       "      <td>1.101000e+04</td>\n",
       "      <td>0.000000e+00</td>\n",
       "      <td>1.000000e+01</td>\n",
       "    </tr>\n",
       "    <tr>\n",
       "      <th>25%</th>\n",
       "      <td>3.012810e+05</td>\n",
       "      <td>202204.0</td>\n",
       "      <td>1.000000e+01</td>\n",
       "      <td>1.110000e+04</td>\n",
       "      <td>1.111000e+04</td>\n",
       "      <td>3.000000e+01</td>\n",
       "      <td>2.000000e+01</td>\n",
       "    </tr>\n",
       "    <tr>\n",
       "      <th>50%</th>\n",
       "      <td>6.556670e+05</td>\n",
       "      <td>202204.0</td>\n",
       "      <td>1.400000e+01</td>\n",
       "      <td>1.120000e+04</td>\n",
       "      <td>1.120000e+04</td>\n",
       "      <td>4.500000e+01</td>\n",
       "      <td>3.000000e+01</td>\n",
       "    </tr>\n",
       "    <tr>\n",
       "      <th>75%</th>\n",
       "      <td>1.082991e+06</td>\n",
       "      <td>202204.0</td>\n",
       "      <td>1.800000e+01</td>\n",
       "      <td>3.101400e+04</td>\n",
       "      <td>3.102100e+04</td>\n",
       "      <td>5.500000e+01</td>\n",
       "      <td>4.000000e+01</td>\n",
       "    </tr>\n",
       "    <tr>\n",
       "      <th>max</th>\n",
       "      <td>1.871922e+06</td>\n",
       "      <td>202204.0</td>\n",
       "      <td>2.300000e+01</td>\n",
       "      <td>3.900000e+04</td>\n",
       "      <td>3.900000e+04</td>\n",
       "      <td>8.000000e+01</td>\n",
       "      <td>7.700000e+02</td>\n",
       "    </tr>\n",
       "  </tbody>\n",
       "</table>\n",
       "</div>"
      ],
      "text/plain": [
       "         Unnamed: 0        대상연월          도착시간     출발 시군구 코드     도착 시군구 코드  \\\n",
       "count  2.892305e+07  28923054.0  2.892305e+07  2.892305e+07  2.892305e+07   \n",
       "mean   7.141390e+05    202204.0  1.365597e+01  1.712362e+04  1.719750e+04   \n",
       "std    4.753792e+05         0.0  5.849675e+00  9.046478e+03  9.063818e+03   \n",
       "min    0.000000e+00    202204.0  0.000000e+00  1.101000e+04  1.101000e+04   \n",
       "25%    3.012810e+05    202204.0  1.000000e+01  1.110000e+04  1.111000e+04   \n",
       "50%    6.556670e+05    202204.0  1.400000e+01  1.120000e+04  1.120000e+04   \n",
       "75%    1.082991e+06    202204.0  1.800000e+01  3.101400e+04  3.102100e+04   \n",
       "max    1.871922e+06    202204.0  2.300000e+01  3.900000e+04  3.900000e+04   \n",
       "\n",
       "                 나이   평균 이동 시간(분)  \n",
       "count  2.892305e+07  2.892305e+07  \n",
       "mean   4.279614e+01  3.279829e+01  \n",
       "std    1.777485e+01  2.584213e+01  \n",
       "min    0.000000e+00  1.000000e+01  \n",
       "25%    3.000000e+01  2.000000e+01  \n",
       "50%    4.500000e+01  3.000000e+01  \n",
       "75%    5.500000e+01  4.000000e+01  \n",
       "max    8.000000e+01  7.700000e+02  "
      ]
     },
     "execution_count": 38,
     "metadata": {},
     "output_type": "execute_result"
    }
   ],
   "source": [
    "# 아래에 실습코드를 작성하고 결과를 확인합니다.\n",
    "movement.describe()"
   ]
  },
  {
   "cell_type": "code",
   "execution_count": 39,
   "id": "940a114a",
   "metadata": {},
   "outputs": [
    {
     "name": "stdout",
     "output_type": "stream",
     "text": [
      "<class 'pandas.core.frame.DataFrame'>\n",
      "RangeIndex: 28923054 entries, 0 to 28923053\n",
      "Data columns (total 11 columns):\n",
      " #   Column       Dtype \n",
      "---  ------       ----- \n",
      " 0   Unnamed: 0   int64 \n",
      " 1   대상연월         int64 \n",
      " 2   요일           object\n",
      " 3   도착시간         int64 \n",
      " 4   출발 시군구 코드    int64 \n",
      " 5   도착 시군구 코드    int64 \n",
      " 6   성별           object\n",
      " 7   나이           int64 \n",
      " 8   이동유형         object\n",
      " 9   평균 이동 시간(분)  int64 \n",
      " 10  이동인구(합)      object\n",
      "dtypes: int64(7), object(4)\n",
      "memory usage: 2.4+ GB\n"
     ]
    }
   ],
   "source": [
    "# 아래에 실습코드를 작성하고 결과를 확인합니다.\n",
    "movement.info()"
   ]
  },
  {
   "cell_type": "code",
   "execution_count": 40,
   "id": "7343fadf",
   "metadata": {},
   "outputs": [
    {
     "data": {
      "text/html": [
       "<div>\n",
       "<style scoped>\n",
       "    .dataframe tbody tr th:only-of-type {\n",
       "        vertical-align: middle;\n",
       "    }\n",
       "\n",
       "    .dataframe tbody tr th {\n",
       "        vertical-align: top;\n",
       "    }\n",
       "\n",
       "    .dataframe thead th {\n",
       "        text-align: right;\n",
       "    }\n",
       "</style>\n",
       "<table border=\"1\" class=\"dataframe\">\n",
       "  <thead>\n",
       "    <tr style=\"text-align: right;\">\n",
       "      <th></th>\n",
       "      <th>Unnamed: 0</th>\n",
       "      <th>대상연월</th>\n",
       "      <th>요일</th>\n",
       "      <th>도착시간</th>\n",
       "      <th>출발 시군구 코드</th>\n",
       "      <th>도착 시군구 코드</th>\n",
       "      <th>성별</th>\n",
       "      <th>나이</th>\n",
       "      <th>이동유형</th>\n",
       "      <th>평균 이동 시간(분)</th>\n",
       "      <th>이동인구(합)</th>\n",
       "    </tr>\n",
       "  </thead>\n",
       "  <tbody>\n",
       "    <tr>\n",
       "      <th>0</th>\n",
       "      <td>0</td>\n",
       "      <td>202204</td>\n",
       "      <td>일</td>\n",
       "      <td>0</td>\n",
       "      <td>11010</td>\n",
       "      <td>11010</td>\n",
       "      <td>F</td>\n",
       "      <td>0</td>\n",
       "      <td>EE</td>\n",
       "      <td>10</td>\n",
       "      <td>28.02</td>\n",
       "    </tr>\n",
       "    <tr>\n",
       "      <th>1</th>\n",
       "      <td>1</td>\n",
       "      <td>202204</td>\n",
       "      <td>일</td>\n",
       "      <td>0</td>\n",
       "      <td>11010</td>\n",
       "      <td>11010</td>\n",
       "      <td>F</td>\n",
       "      <td>0</td>\n",
       "      <td>EH</td>\n",
       "      <td>10</td>\n",
       "      <td>27.52</td>\n",
       "    </tr>\n",
       "    <tr>\n",
       "      <th>2</th>\n",
       "      <td>2</td>\n",
       "      <td>202204</td>\n",
       "      <td>일</td>\n",
       "      <td>0</td>\n",
       "      <td>11010</td>\n",
       "      <td>11010</td>\n",
       "      <td>F</td>\n",
       "      <td>0</td>\n",
       "      <td>HE</td>\n",
       "      <td>10</td>\n",
       "      <td>27.83</td>\n",
       "    </tr>\n",
       "    <tr>\n",
       "      <th>3</th>\n",
       "      <td>3</td>\n",
       "      <td>202204</td>\n",
       "      <td>일</td>\n",
       "      <td>0</td>\n",
       "      <td>11010</td>\n",
       "      <td>11010</td>\n",
       "      <td>F</td>\n",
       "      <td>10</td>\n",
       "      <td>HW</td>\n",
       "      <td>10</td>\n",
       "      <td>6.05</td>\n",
       "    </tr>\n",
       "    <tr>\n",
       "      <th>4</th>\n",
       "      <td>4</td>\n",
       "      <td>202204</td>\n",
       "      <td>일</td>\n",
       "      <td>0</td>\n",
       "      <td>11010</td>\n",
       "      <td>11010</td>\n",
       "      <td>F</td>\n",
       "      <td>10</td>\n",
       "      <td>EH</td>\n",
       "      <td>90</td>\n",
       "      <td>5.95</td>\n",
       "    </tr>\n",
       "  </tbody>\n",
       "</table>\n",
       "</div>"
      ],
      "text/plain": [
       "   Unnamed: 0    대상연월 요일  도착시간  출발 시군구 코드  도착 시군구 코드 성별  나이 이동유형  평균 이동 시간(분)  \\\n",
       "0           0  202204  일     0      11010      11010  F   0   EE           10   \n",
       "1           1  202204  일     0      11010      11010  F   0   EH           10   \n",
       "2           2  202204  일     0      11010      11010  F   0   HE           10   \n",
       "3           3  202204  일     0      11010      11010  F  10   HW           10   \n",
       "4           4  202204  일     0      11010      11010  F  10   EH           90   \n",
       "\n",
       "  이동인구(합)  \n",
       "0   28.02  \n",
       "1   27.52  \n",
       "2   27.83  \n",
       "3    6.05  \n",
       "4    5.95  "
      ]
     },
     "execution_count": 40,
     "metadata": {},
     "output_type": "execute_result"
    }
   ],
   "source": [
    "# 아래에 실습코드를 작성하고 결과를 확인합니다.\n",
    "movement.head()"
   ]
  },
  {
   "cell_type": "markdown",
   "id": "b90fd066",
   "metadata": {},
   "source": [
    "* 1번 열의 의미\n",
    "    * \" 2022년 1월 일요일에 11010(종로구)에서 11010(종로구)으로 이동하여 0시 ~ 0시 59분 사이에 도착했고, E(기타)에서 H(야간상주지(집))으로 이동한 0 ~ 10세 여성은 총 27.52명이며 이들의 평균 이동시간은 10분이다"
   ]
  },
  {
   "cell_type": "markdown",
   "id": "003322b3",
   "metadata": {},
   "source": [
    "#### [실습문제3] 결측치 처리 ( NaN이 아닌 결측치를 처리 해봅시다) << 중요 >>\n",
    "\n",
    "* '인구이동(합)' column은 이동 인구의 합산인데 object 타입입니다. \n",
    "\n",
    "    - 왜 일까요? \n",
    "\n",
    "    - Tip! (이동인구 : 추정 합산값으로 소수점 표출, 개인정보 비식별화를 위해 3명 미만의 경우 * 처리)\n",
    "\n",
    "    - 해당 값을 나름의 기준으로 변경하세요\n",
    "\n",
    "    - '인구이동(합)' 컬럼의 데이터 타입을 수치형으로 변경하세요 "
   ]
  },
  {
   "cell_type": "code",
   "execution_count": 41,
   "id": "64977ed3",
   "metadata": {},
   "outputs": [
    {
     "data": {
      "text/plain": [
       "*          3842041\n",
       "3.3         399374\n",
       "6.05        366830\n",
       "3.29        289731\n",
       "3.31        232069\n",
       "            ...   \n",
       "2352.37          1\n",
       "1617.99          1\n",
       "3141.86          1\n",
       "1485.54          1\n",
       "979.87           1\n",
       "Name: 이동인구(합), Length: 135812, dtype: int64"
      ]
     },
     "execution_count": 41,
     "metadata": {},
     "output_type": "execute_result"
    }
   ],
   "source": [
    "# 아래에 실습코드를 작성하고 결과를 확인합니다. (Hint : value_counts())\n",
    "movement['이동인구(합)'].value_counts()"
   ]
  },
  {
   "cell_type": "code",
   "execution_count": 42,
   "id": "058085c4",
   "metadata": {},
   "outputs": [
    {
     "data": {
      "text/html": [
       "<div>\n",
       "<style scoped>\n",
       "    .dataframe tbody tr th:only-of-type {\n",
       "        vertical-align: middle;\n",
       "    }\n",
       "\n",
       "    .dataframe tbody tr th {\n",
       "        vertical-align: top;\n",
       "    }\n",
       "\n",
       "    .dataframe thead th {\n",
       "        text-align: right;\n",
       "    }\n",
       "</style>\n",
       "<table border=\"1\" class=\"dataframe\">\n",
       "  <thead>\n",
       "    <tr style=\"text-align: right;\">\n",
       "      <th></th>\n",
       "      <th>Unnamed: 0</th>\n",
       "      <th>대상연월</th>\n",
       "      <th>요일</th>\n",
       "      <th>도착시간</th>\n",
       "      <th>출발 시군구 코드</th>\n",
       "      <th>도착 시군구 코드</th>\n",
       "      <th>성별</th>\n",
       "      <th>나이</th>\n",
       "      <th>이동유형</th>\n",
       "      <th>평균 이동 시간(분)</th>\n",
       "      <th>이동인구(합)</th>\n",
       "    </tr>\n",
       "  </thead>\n",
       "  <tbody>\n",
       "    <tr>\n",
       "      <th>0</th>\n",
       "      <td>0.0</td>\n",
       "      <td>202204.0</td>\n",
       "      <td>일</td>\n",
       "      <td>0.0</td>\n",
       "      <td>11010.0</td>\n",
       "      <td>11010.0</td>\n",
       "      <td>F</td>\n",
       "      <td>0.0</td>\n",
       "      <td>EE</td>\n",
       "      <td>10.0</td>\n",
       "      <td>28.02</td>\n",
       "    </tr>\n",
       "    <tr>\n",
       "      <th>1</th>\n",
       "      <td>1.0</td>\n",
       "      <td>202204.0</td>\n",
       "      <td>일</td>\n",
       "      <td>0.0</td>\n",
       "      <td>11010.0</td>\n",
       "      <td>11010.0</td>\n",
       "      <td>F</td>\n",
       "      <td>0.0</td>\n",
       "      <td>EH</td>\n",
       "      <td>10.0</td>\n",
       "      <td>27.52</td>\n",
       "    </tr>\n",
       "    <tr>\n",
       "      <th>2</th>\n",
       "      <td>2.0</td>\n",
       "      <td>202204.0</td>\n",
       "      <td>일</td>\n",
       "      <td>0.0</td>\n",
       "      <td>11010.0</td>\n",
       "      <td>11010.0</td>\n",
       "      <td>F</td>\n",
       "      <td>0.0</td>\n",
       "      <td>HE</td>\n",
       "      <td>10.0</td>\n",
       "      <td>27.83</td>\n",
       "    </tr>\n",
       "    <tr>\n",
       "      <th>3</th>\n",
       "      <td>3.0</td>\n",
       "      <td>202204.0</td>\n",
       "      <td>일</td>\n",
       "      <td>0.0</td>\n",
       "      <td>11010.0</td>\n",
       "      <td>11010.0</td>\n",
       "      <td>F</td>\n",
       "      <td>10.0</td>\n",
       "      <td>HW</td>\n",
       "      <td>10.0</td>\n",
       "      <td>6.05</td>\n",
       "    </tr>\n",
       "    <tr>\n",
       "      <th>4</th>\n",
       "      <td>4.0</td>\n",
       "      <td>202204.0</td>\n",
       "      <td>일</td>\n",
       "      <td>0.0</td>\n",
       "      <td>11010.0</td>\n",
       "      <td>11010.0</td>\n",
       "      <td>F</td>\n",
       "      <td>10.0</td>\n",
       "      <td>EH</td>\n",
       "      <td>90.0</td>\n",
       "      <td>5.95</td>\n",
       "    </tr>\n",
       "  </tbody>\n",
       "</table>\n",
       "</div>"
      ],
      "text/plain": [
       "   Unnamed: 0      대상연월 요일  도착시간  출발 시군구 코드  도착 시군구 코드 성별    나이 이동유형  \\\n",
       "0         0.0  202204.0  일   0.0    11010.0    11010.0  F   0.0   EE   \n",
       "1         1.0  202204.0  일   0.0    11010.0    11010.0  F   0.0   EH   \n",
       "2         2.0  202204.0  일   0.0    11010.0    11010.0  F   0.0   HE   \n",
       "3         3.0  202204.0  일   0.0    11010.0    11010.0  F  10.0   HW   \n",
       "4         4.0  202204.0  일   0.0    11010.0    11010.0  F  10.0   EH   \n",
       "\n",
       "   평균 이동 시간(분) 이동인구(합)  \n",
       "0         10.0   28.02  \n",
       "1         10.0   27.52  \n",
       "2         10.0   27.83  \n",
       "3         10.0    6.05  \n",
       "4         90.0    5.95  "
      ]
     },
     "execution_count": 42,
     "metadata": {},
     "output_type": "execute_result"
    }
   ],
   "source": [
    "# movement['이동인구합(0제외)'] = movement.loc[movement['이동인구(합)'] == 0, '이동인구(합)'] = 1.5\n",
    "# movement.replace(\"*\",\"1.5\", inplace=True)\n",
    "movement.loc[movement['이동인구(합)'] == '*'] = 1.5\n",
    "movement.head()"
   ]
  },
  {
   "cell_type": "code",
   "execution_count": 43,
   "id": "5c972795",
   "metadata": {},
   "outputs": [
    {
     "data": {
      "text/plain": [
       "1.5        3842041\n",
       "3.3         399374\n",
       "6.05        366830\n",
       "3.29        289731\n",
       "3.31        232069\n",
       "            ...   \n",
       "2352.37          1\n",
       "1617.99          1\n",
       "3141.86          1\n",
       "1485.54          1\n",
       "979.87           1\n",
       "Name: 이동인구(합), Length: 135812, dtype: int64"
      ]
     },
     "execution_count": 43,
     "metadata": {},
     "output_type": "execute_result"
    }
   ],
   "source": [
    "movement['이동인구(합)'].value_counts()"
   ]
  },
  {
   "cell_type": "code",
   "execution_count": 44,
   "id": "ac8f0cc7",
   "metadata": {},
   "outputs": [
    {
     "data": {
      "text/plain": [
       "1.5     3842041\n",
       "18.0    1659905\n",
       "17.0    1633838\n",
       "19.0    1572914\n",
       "16.0    1552113\n",
       "15.0    1490388\n",
       "13.0    1477207\n",
       "14.0    1468998\n",
       "12.0    1428266\n",
       "20.0    1346662\n",
       "11.0    1328539\n",
       "10.0    1236173\n",
       "21.0    1168320\n",
       "9.0     1147895\n",
       "8.0     1035948\n",
       "22.0    1019658\n",
       "7.0      840710\n",
       "23.0     804102\n",
       "6.0      652506\n",
       "0.0      616972\n",
       "1.0      413843\n",
       "5.0      401830\n",
       "2.0      290560\n",
       "4.0      256392\n",
       "3.0      237274\n",
       "Name: 도착시간, dtype: int64"
      ]
     },
     "execution_count": 44,
     "metadata": {},
     "output_type": "execute_result"
    }
   ],
   "source": [
    "movement['도착시간'].value_counts()"
   ]
  },
  {
   "cell_type": "code",
   "execution_count": 45,
   "id": "703fc8b7",
   "metadata": {},
   "outputs": [],
   "source": [
    "# 최빈값과 평균값을 알 수 없는 상황이라 중위값으로 대체\n",
    "movement.replace('*', '1.5', inplace=True)"
   ]
  },
  {
   "cell_type": "code",
   "execution_count": 46,
   "id": "eefe243e",
   "metadata": {},
   "outputs": [
    {
     "data": {
      "text/plain": [
       "1.5        3842041\n",
       "3.3         399374\n",
       "6.05        366830\n",
       "3.29        289731\n",
       "3.31        232069\n",
       "            ...   \n",
       "2352.37          1\n",
       "1617.99          1\n",
       "3141.86          1\n",
       "1485.54          1\n",
       "979.87           1\n",
       "Name: 이동인구(합), Length: 135812, dtype: int64"
      ]
     },
     "execution_count": 46,
     "metadata": {},
     "output_type": "execute_result"
    }
   ],
   "source": [
    "# 아래에 실습코드를 작성하고 결과를 확인합니다.\n",
    "movement['이동인구(합)'].value_counts()"
   ]
  },
  {
   "cell_type": "code",
   "execution_count": 47,
   "id": "3ec3c54b",
   "metadata": {},
   "outputs": [],
   "source": [
    "# 이동인구(합) column의 데이터 타입을 바꿔주세요\n",
    "# astype\n",
    "movement['이동인구(합)'] = movement['이동인구(합)'].astype('float')"
   ]
  },
  {
   "cell_type": "markdown",
   "id": "3666e46c",
   "metadata": {},
   "source": [
    "#### [실습문제4] 이동유형, 요일, 성별 변수의 value수를 파악\n",
    "\n",
    "* 역시나 value_counts()를 활용해 봅시다."
   ]
  },
  {
   "cell_type": "code",
   "execution_count": 48,
   "id": "3cd0103e",
   "metadata": {},
   "outputs": [
    {
     "data": {
      "text/plain": [
       "EH     5071239\n",
       "HE     4862072\n",
       "EE     4377788\n",
       "1.5    3842041\n",
       "WH     2770340\n",
       "HW     2432742\n",
       "WE     2343722\n",
       "EW     1875474\n",
       "WW      873431\n",
       "HH      474205\n",
       "Name: 이동유형, dtype: int64"
      ]
     },
     "execution_count": 48,
     "metadata": {},
     "output_type": "execute_result"
    }
   ],
   "source": [
    "# 아래에 실습코드를 작성하고 결과를 확인합니다.\n",
    "movement['이동유형'].value_counts()"
   ]
  },
  {
   "cell_type": "code",
   "execution_count": 49,
   "id": "c2e93bc8",
   "metadata": {},
   "outputs": [
    {
     "data": {
      "text/plain": [
       "토      4107001\n",
       "금      4044366\n",
       "1.5    3842041\n",
       "목      3473409\n",
       "수      3428786\n",
       "화      3404321\n",
       "월      3368429\n",
       "일      3254701\n",
       "Name: 요일, dtype: int64"
      ]
     },
     "execution_count": 49,
     "metadata": {},
     "output_type": "execute_result"
    }
   ],
   "source": [
    "movement['요일'].value_counts()"
   ]
  },
  {
   "cell_type": "code",
   "execution_count": 50,
   "id": "dff053e3",
   "metadata": {},
   "outputs": [
    {
     "data": {
      "text/plain": [
       "M      13970365\n",
       "F      11110648\n",
       "1.5     3842041\n",
       "Name: 성별, dtype: int64"
      ]
     },
     "execution_count": 50,
     "metadata": {},
     "output_type": "execute_result"
    }
   ],
   "source": [
    "movement['성별'].value_counts()"
   ]
  },
  {
   "cell_type": "code",
   "execution_count": 51,
   "id": "e32f5ef7",
   "metadata": {},
   "outputs": [
    {
     "data": {
      "text/html": [
       "<div>\n",
       "<style scoped>\n",
       "    .dataframe tbody tr th:only-of-type {\n",
       "        vertical-align: middle;\n",
       "    }\n",
       "\n",
       "    .dataframe tbody tr th {\n",
       "        vertical-align: top;\n",
       "    }\n",
       "\n",
       "    .dataframe thead th {\n",
       "        text-align: right;\n",
       "    }\n",
       "</style>\n",
       "<table border=\"1\" class=\"dataframe\">\n",
       "  <thead>\n",
       "    <tr style=\"text-align: right;\">\n",
       "      <th></th>\n",
       "      <th>Unnamed: 0</th>\n",
       "      <th>대상연월</th>\n",
       "      <th>요일</th>\n",
       "      <th>도착시간</th>\n",
       "      <th>출발 시군구 코드</th>\n",
       "      <th>도착 시군구 코드</th>\n",
       "      <th>성별</th>\n",
       "      <th>나이</th>\n",
       "      <th>이동유형</th>\n",
       "      <th>평균 이동 시간(분)</th>\n",
       "      <th>이동인구(합)</th>\n",
       "    </tr>\n",
       "  </thead>\n",
       "  <tbody>\n",
       "    <tr>\n",
       "      <th>0</th>\n",
       "      <td>0.0</td>\n",
       "      <td>202204.0</td>\n",
       "      <td>일</td>\n",
       "      <td>0.0</td>\n",
       "      <td>11010.0</td>\n",
       "      <td>11010.0</td>\n",
       "      <td>F</td>\n",
       "      <td>0.0</td>\n",
       "      <td>EE</td>\n",
       "      <td>10.0</td>\n",
       "      <td>28.02</td>\n",
       "    </tr>\n",
       "    <tr>\n",
       "      <th>1</th>\n",
       "      <td>1.0</td>\n",
       "      <td>202204.0</td>\n",
       "      <td>일</td>\n",
       "      <td>0.0</td>\n",
       "      <td>11010.0</td>\n",
       "      <td>11010.0</td>\n",
       "      <td>F</td>\n",
       "      <td>0.0</td>\n",
       "      <td>EH</td>\n",
       "      <td>10.0</td>\n",
       "      <td>27.52</td>\n",
       "    </tr>\n",
       "    <tr>\n",
       "      <th>2</th>\n",
       "      <td>2.0</td>\n",
       "      <td>202204.0</td>\n",
       "      <td>일</td>\n",
       "      <td>0.0</td>\n",
       "      <td>11010.0</td>\n",
       "      <td>11010.0</td>\n",
       "      <td>F</td>\n",
       "      <td>0.0</td>\n",
       "      <td>HE</td>\n",
       "      <td>10.0</td>\n",
       "      <td>27.83</td>\n",
       "    </tr>\n",
       "    <tr>\n",
       "      <th>3</th>\n",
       "      <td>3.0</td>\n",
       "      <td>202204.0</td>\n",
       "      <td>일</td>\n",
       "      <td>0.0</td>\n",
       "      <td>11010.0</td>\n",
       "      <td>11010.0</td>\n",
       "      <td>F</td>\n",
       "      <td>10.0</td>\n",
       "      <td>HW</td>\n",
       "      <td>10.0</td>\n",
       "      <td>6.05</td>\n",
       "    </tr>\n",
       "    <tr>\n",
       "      <th>4</th>\n",
       "      <td>4.0</td>\n",
       "      <td>202204.0</td>\n",
       "      <td>일</td>\n",
       "      <td>0.0</td>\n",
       "      <td>11010.0</td>\n",
       "      <td>11010.0</td>\n",
       "      <td>F</td>\n",
       "      <td>10.0</td>\n",
       "      <td>EH</td>\n",
       "      <td>90.0</td>\n",
       "      <td>5.95</td>\n",
       "    </tr>\n",
       "    <tr>\n",
       "      <th>...</th>\n",
       "      <td>...</td>\n",
       "      <td>...</td>\n",
       "      <td>...</td>\n",
       "      <td>...</td>\n",
       "      <td>...</td>\n",
       "      <td>...</td>\n",
       "      <td>...</td>\n",
       "      <td>...</td>\n",
       "      <td>...</td>\n",
       "      <td>...</td>\n",
       "      <td>...</td>\n",
       "    </tr>\n",
       "    <tr>\n",
       "      <th>28923049</th>\n",
       "      <td>968458.0</td>\n",
       "      <td>202204.0</td>\n",
       "      <td>토</td>\n",
       "      <td>23.0</td>\n",
       "      <td>39000.0</td>\n",
       "      <td>11250.0</td>\n",
       "      <td>M</td>\n",
       "      <td>45.0</td>\n",
       "      <td>EH</td>\n",
       "      <td>50.0</td>\n",
       "      <td>3.16</td>\n",
       "    </tr>\n",
       "    <tr>\n",
       "      <th>28923050</th>\n",
       "      <td>968459.0</td>\n",
       "      <td>202204.0</td>\n",
       "      <td>토</td>\n",
       "      <td>23.0</td>\n",
       "      <td>39000.0</td>\n",
       "      <td>11250.0</td>\n",
       "      <td>M</td>\n",
       "      <td>50.0</td>\n",
       "      <td>EH</td>\n",
       "      <td>70.0</td>\n",
       "      <td>3.27</td>\n",
       "    </tr>\n",
       "    <tr>\n",
       "      <th>28923051</th>\n",
       "      <td>968460.0</td>\n",
       "      <td>202204.0</td>\n",
       "      <td>토</td>\n",
       "      <td>23.0</td>\n",
       "      <td>39000.0</td>\n",
       "      <td>11250.0</td>\n",
       "      <td>M</td>\n",
       "      <td>55.0</td>\n",
       "      <td>EE</td>\n",
       "      <td>50.0</td>\n",
       "      <td>3.31</td>\n",
       "    </tr>\n",
       "    <tr>\n",
       "      <th>28923052</th>\n",
       "      <td>968461.0</td>\n",
       "      <td>202204.0</td>\n",
       "      <td>토</td>\n",
       "      <td>23.0</td>\n",
       "      <td>39000.0</td>\n",
       "      <td>11250.0</td>\n",
       "      <td>M</td>\n",
       "      <td>55.0</td>\n",
       "      <td>EH</td>\n",
       "      <td>50.0</td>\n",
       "      <td>3.28</td>\n",
       "    </tr>\n",
       "    <tr>\n",
       "      <th>28923053</th>\n",
       "      <td>968462.0</td>\n",
       "      <td>202204.0</td>\n",
       "      <td>토</td>\n",
       "      <td>23.0</td>\n",
       "      <td>39000.0</td>\n",
       "      <td>11250.0</td>\n",
       "      <td>M</td>\n",
       "      <td>75.0</td>\n",
       "      <td>EH</td>\n",
       "      <td>30.0</td>\n",
       "      <td>5.94</td>\n",
       "    </tr>\n",
       "  </tbody>\n",
       "</table>\n",
       "<p>28923054 rows × 11 columns</p>\n",
       "</div>"
      ],
      "text/plain": [
       "          Unnamed: 0      대상연월 요일  도착시간  출발 시군구 코드  도착 시군구 코드 성별    나이 이동유형  \\\n",
       "0                0.0  202204.0  일   0.0    11010.0    11010.0  F   0.0   EE   \n",
       "1                1.0  202204.0  일   0.0    11010.0    11010.0  F   0.0   EH   \n",
       "2                2.0  202204.0  일   0.0    11010.0    11010.0  F   0.0   HE   \n",
       "3                3.0  202204.0  일   0.0    11010.0    11010.0  F  10.0   HW   \n",
       "4                4.0  202204.0  일   0.0    11010.0    11010.0  F  10.0   EH   \n",
       "...              ...       ... ..   ...        ...        ... ..   ...  ...   \n",
       "28923049    968458.0  202204.0  토  23.0    39000.0    11250.0  M  45.0   EH   \n",
       "28923050    968459.0  202204.0  토  23.0    39000.0    11250.0  M  50.0   EH   \n",
       "28923051    968460.0  202204.0  토  23.0    39000.0    11250.0  M  55.0   EE   \n",
       "28923052    968461.0  202204.0  토  23.0    39000.0    11250.0  M  55.0   EH   \n",
       "28923053    968462.0  202204.0  토  23.0    39000.0    11250.0  M  75.0   EH   \n",
       "\n",
       "          평균 이동 시간(분)  이동인구(합)  \n",
       "0                10.0    28.02  \n",
       "1                10.0    27.52  \n",
       "2                10.0    27.83  \n",
       "3                10.0     6.05  \n",
       "4                90.0     5.95  \n",
       "...               ...      ...  \n",
       "28923049         50.0     3.16  \n",
       "28923050         70.0     3.27  \n",
       "28923051         50.0     3.31  \n",
       "28923052         50.0     3.28  \n",
       "28923053         30.0     5.94  \n",
       "\n",
       "[28923054 rows x 11 columns]"
      ]
     },
     "execution_count": 51,
     "metadata": {},
     "output_type": "execute_result"
    }
   ],
   "source": [
    "movement"
   ]
  },
  {
   "cell_type": "code",
   "execution_count": 52,
   "id": "1cdd246f",
   "metadata": {},
   "outputs": [
    {
     "ename": "OverflowError",
     "evalue": "Exceeded cell block limit in Agg.  Please set the value of rcParams['agg.path.chunksize'], (currently 0) to be greater than 100 or increase the path simplification threshold(rcParams['path.simplify_threshold'] = 0.111111111111 by default and path.simplify_threshold = 0.111111111111 on the input).",
     "output_type": "error",
     "traceback": [
      "\u001b[1;31m---------------------------------------------------------------------------\u001b[0m",
      "\u001b[1;31mOverflowError\u001b[0m                             Traceback (most recent call last)",
      "File \u001b[1;32m~\\AppData\\Roaming\\Python\\Python39\\site-packages\\IPython\\core\\formatters.py:338\u001b[0m, in \u001b[0;36mBaseFormatter.__call__\u001b[1;34m(self, obj)\u001b[0m\n\u001b[0;32m    336\u001b[0m     \u001b[39mpass\u001b[39;00m\n\u001b[0;32m    337\u001b[0m \u001b[39melse\u001b[39;00m:\n\u001b[1;32m--> 338\u001b[0m     \u001b[39mreturn\u001b[39;00m printer(obj)\n\u001b[0;32m    339\u001b[0m \u001b[39m# Finally look for special method names\u001b[39;00m\n\u001b[0;32m    340\u001b[0m method \u001b[39m=\u001b[39m get_real_method(obj, \u001b[39mself\u001b[39m\u001b[39m.\u001b[39mprint_method)\n",
      "File \u001b[1;32m~\\AppData\\Roaming\\Python\\Python39\\site-packages\\IPython\\core\\pylabtools.py:152\u001b[0m, in \u001b[0;36mprint_figure\u001b[1;34m(fig, fmt, bbox_inches, base64, **kwargs)\u001b[0m\n\u001b[0;32m    149\u001b[0m     \u001b[39mfrom\u001b[39;00m \u001b[39mmatplotlib\u001b[39;00m\u001b[39m.\u001b[39;00m\u001b[39mbackend_bases\u001b[39;00m \u001b[39mimport\u001b[39;00m FigureCanvasBase\n\u001b[0;32m    150\u001b[0m     FigureCanvasBase(fig)\n\u001b[1;32m--> 152\u001b[0m fig\u001b[39m.\u001b[39mcanvas\u001b[39m.\u001b[39mprint_figure(bytes_io, \u001b[39m*\u001b[39m\u001b[39m*\u001b[39mkw)\n\u001b[0;32m    153\u001b[0m data \u001b[39m=\u001b[39m bytes_io\u001b[39m.\u001b[39mgetvalue()\n\u001b[0;32m    154\u001b[0m \u001b[39mif\u001b[39;00m fmt \u001b[39m==\u001b[39m \u001b[39m'\u001b[39m\u001b[39msvg\u001b[39m\u001b[39m'\u001b[39m:\n",
      "File \u001b[1;32mc:\\Users\\User\\anaconda3\\lib\\site-packages\\matplotlib\\backend_bases.py:2319\u001b[0m, in \u001b[0;36mFigureCanvasBase.print_figure\u001b[1;34m(self, filename, dpi, facecolor, edgecolor, orientation, format, bbox_inches, pad_inches, bbox_extra_artists, backend, **kwargs)\u001b[0m\n\u001b[0;32m   2315\u001b[0m \u001b[39mtry\u001b[39;00m:\n\u001b[0;32m   2316\u001b[0m     \u001b[39m# _get_renderer may change the figure dpi (as vector formats\u001b[39;00m\n\u001b[0;32m   2317\u001b[0m     \u001b[39m# force the figure dpi to 72), so we need to set it again here.\u001b[39;00m\n\u001b[0;32m   2318\u001b[0m     \u001b[39mwith\u001b[39;00m cbook\u001b[39m.\u001b[39m_setattr_cm(\u001b[39mself\u001b[39m\u001b[39m.\u001b[39mfigure, dpi\u001b[39m=\u001b[39mdpi):\n\u001b[1;32m-> 2319\u001b[0m         result \u001b[39m=\u001b[39m print_method(\n\u001b[0;32m   2320\u001b[0m             filename,\n\u001b[0;32m   2321\u001b[0m             facecolor\u001b[39m=\u001b[39mfacecolor,\n\u001b[0;32m   2322\u001b[0m             edgecolor\u001b[39m=\u001b[39medgecolor,\n\u001b[0;32m   2323\u001b[0m             orientation\u001b[39m=\u001b[39morientation,\n\u001b[0;32m   2324\u001b[0m             bbox_inches_restore\u001b[39m=\u001b[39m_bbox_inches_restore,\n\u001b[0;32m   2325\u001b[0m             \u001b[39m*\u001b[39m\u001b[39m*\u001b[39mkwargs)\n\u001b[0;32m   2326\u001b[0m \u001b[39mfinally\u001b[39;00m:\n\u001b[0;32m   2327\u001b[0m     \u001b[39mif\u001b[39;00m bbox_inches \u001b[39mand\u001b[39;00m restore_bbox:\n",
      "File \u001b[1;32mc:\\Users\\User\\anaconda3\\lib\\site-packages\\matplotlib\\backend_bases.py:1648\u001b[0m, in \u001b[0;36m_check_savefig_extra_args.<locals>.wrapper\u001b[1;34m(*args, **kwargs)\u001b[0m\n\u001b[0;32m   1640\u001b[0m     _api\u001b[39m.\u001b[39mwarn_deprecated(\n\u001b[0;32m   1641\u001b[0m         \u001b[39m'\u001b[39m\u001b[39m3.3\u001b[39m\u001b[39m'\u001b[39m, name\u001b[39m=\u001b[39mname, removal\u001b[39m=\u001b[39m\u001b[39m'\u001b[39m\u001b[39m3.6\u001b[39m\u001b[39m'\u001b[39m,\n\u001b[0;32m   1642\u001b[0m         message\u001b[39m=\u001b[39m\u001b[39m'\u001b[39m\u001b[39m%(name)s\u001b[39;00m\u001b[39m() got unexpected keyword argument \u001b[39m\u001b[39m\"\u001b[39m\u001b[39m'\u001b[39m\n\u001b[0;32m   1643\u001b[0m                 \u001b[39m+\u001b[39m arg \u001b[39m+\u001b[39m \u001b[39m'\u001b[39m\u001b[39m\"\u001b[39m\u001b[39m which is no longer supported as of \u001b[39m\u001b[39m'\u001b[39m\n\u001b[0;32m   1644\u001b[0m                 \u001b[39m'\u001b[39m\u001b[39m%(since)s\u001b[39;00m\u001b[39m and will become an error \u001b[39m\u001b[39m'\u001b[39m\n\u001b[0;32m   1645\u001b[0m                 \u001b[39m'\u001b[39m\u001b[39m%(removal)s\u001b[39;00m\u001b[39m'\u001b[39m)\n\u001b[0;32m   1646\u001b[0m     kwargs\u001b[39m.\u001b[39mpop(arg)\n\u001b[1;32m-> 1648\u001b[0m \u001b[39mreturn\u001b[39;00m func(\u001b[39m*\u001b[39margs, \u001b[39m*\u001b[39m\u001b[39m*\u001b[39mkwargs)\n",
      "File \u001b[1;32mc:\\Users\\User\\anaconda3\\lib\\site-packages\\matplotlib\\_api\\deprecation.py:415\u001b[0m, in \u001b[0;36mdelete_parameter.<locals>.wrapper\u001b[1;34m(*inner_args, **inner_kwargs)\u001b[0m\n\u001b[0;32m    405\u001b[0m     deprecation_addendum \u001b[39m=\u001b[39m (\n\u001b[0;32m    406\u001b[0m         \u001b[39mf\u001b[39m\u001b[39m\"\u001b[39m\u001b[39mIf any parameter follows \u001b[39m\u001b[39m{\u001b[39;00mname\u001b[39m!r}\u001b[39;00m\u001b[39m, they should be passed as \u001b[39m\u001b[39m\"\u001b[39m\n\u001b[0;32m    407\u001b[0m         \u001b[39mf\u001b[39m\u001b[39m\"\u001b[39m\u001b[39mkeyword, not positionally.\u001b[39m\u001b[39m\"\u001b[39m)\n\u001b[0;32m    408\u001b[0m     warn_deprecated(\n\u001b[0;32m    409\u001b[0m         since,\n\u001b[0;32m    410\u001b[0m         name\u001b[39m=\u001b[39m\u001b[39mrepr\u001b[39m(name),\n\u001b[1;32m   (...)\u001b[0m\n\u001b[0;32m    413\u001b[0m                  \u001b[39melse\u001b[39;00m deprecation_addendum,\n\u001b[0;32m    414\u001b[0m         \u001b[39m*\u001b[39m\u001b[39m*\u001b[39mkwargs)\n\u001b[1;32m--> 415\u001b[0m \u001b[39mreturn\u001b[39;00m func(\u001b[39m*\u001b[39minner_args, \u001b[39m*\u001b[39m\u001b[39m*\u001b[39minner_kwargs)\n",
      "File \u001b[1;32mc:\\Users\\User\\anaconda3\\lib\\site-packages\\matplotlib\\backends\\backend_agg.py:540\u001b[0m, in \u001b[0;36mFigureCanvasAgg.print_png\u001b[1;34m(self, filename_or_obj, metadata, pil_kwargs, *args)\u001b[0m\n\u001b[0;32m    490\u001b[0m \u001b[39m@_check_savefig_extra_args\u001b[39m\n\u001b[0;32m    491\u001b[0m \u001b[39m@_api\u001b[39m\u001b[39m.\u001b[39mdelete_parameter(\u001b[39m\"\u001b[39m\u001b[39m3.5\u001b[39m\u001b[39m\"\u001b[39m, \u001b[39m\"\u001b[39m\u001b[39margs\u001b[39m\u001b[39m\"\u001b[39m)\n\u001b[0;32m    492\u001b[0m \u001b[39mdef\u001b[39;00m \u001b[39mprint_png\u001b[39m(\u001b[39mself\u001b[39m, filename_or_obj, \u001b[39m*\u001b[39margs,\n\u001b[0;32m    493\u001b[0m               metadata\u001b[39m=\u001b[39m\u001b[39mNone\u001b[39;00m, pil_kwargs\u001b[39m=\u001b[39m\u001b[39mNone\u001b[39;00m):\n\u001b[0;32m    494\u001b[0m \u001b[39m    \u001b[39m\u001b[39m\"\"\"\u001b[39;00m\n\u001b[0;32m    495\u001b[0m \u001b[39m    Write the figure to a PNG file.\u001b[39;00m\n\u001b[0;32m    496\u001b[0m \n\u001b[1;32m   (...)\u001b[0m\n\u001b[0;32m    538\u001b[0m \u001b[39m        *metadata*, including the default 'Software' key.\u001b[39;00m\n\u001b[0;32m    539\u001b[0m \u001b[39m    \"\"\"\u001b[39;00m\n\u001b[1;32m--> 540\u001b[0m     FigureCanvasAgg\u001b[39m.\u001b[39;49mdraw(\u001b[39mself\u001b[39;49m)\n\u001b[0;32m    541\u001b[0m     mpl\u001b[39m.\u001b[39mimage\u001b[39m.\u001b[39mimsave(\n\u001b[0;32m    542\u001b[0m         filename_or_obj, \u001b[39mself\u001b[39m\u001b[39m.\u001b[39mbuffer_rgba(), \u001b[39mformat\u001b[39m\u001b[39m=\u001b[39m\u001b[39m\"\u001b[39m\u001b[39mpng\u001b[39m\u001b[39m\"\u001b[39m, origin\u001b[39m=\u001b[39m\u001b[39m\"\u001b[39m\u001b[39mupper\u001b[39m\u001b[39m\"\u001b[39m,\n\u001b[0;32m    543\u001b[0m         dpi\u001b[39m=\u001b[39m\u001b[39mself\u001b[39m\u001b[39m.\u001b[39mfigure\u001b[39m.\u001b[39mdpi, metadata\u001b[39m=\u001b[39mmetadata, pil_kwargs\u001b[39m=\u001b[39mpil_kwargs)\n",
      "File \u001b[1;32mc:\\Users\\User\\anaconda3\\lib\\site-packages\\matplotlib\\backends\\backend_agg.py:436\u001b[0m, in \u001b[0;36mFigureCanvasAgg.draw\u001b[1;34m(self)\u001b[0m\n\u001b[0;32m    432\u001b[0m \u001b[39m# Acquire a lock on the shared font cache.\u001b[39;00m\n\u001b[0;32m    433\u001b[0m \u001b[39mwith\u001b[39;00m RendererAgg\u001b[39m.\u001b[39mlock, \\\n\u001b[0;32m    434\u001b[0m      (\u001b[39mself\u001b[39m\u001b[39m.\u001b[39mtoolbar\u001b[39m.\u001b[39m_wait_cursor_for_draw_cm() \u001b[39mif\u001b[39;00m \u001b[39mself\u001b[39m\u001b[39m.\u001b[39mtoolbar\n\u001b[0;32m    435\u001b[0m       \u001b[39melse\u001b[39;00m nullcontext()):\n\u001b[1;32m--> 436\u001b[0m     \u001b[39mself\u001b[39;49m\u001b[39m.\u001b[39;49mfigure\u001b[39m.\u001b[39;49mdraw(\u001b[39mself\u001b[39;49m\u001b[39m.\u001b[39;49mrenderer)\n\u001b[0;32m    437\u001b[0m     \u001b[39m# A GUI class may be need to update a window using this draw, so\u001b[39;00m\n\u001b[0;32m    438\u001b[0m     \u001b[39m# don't forget to call the superclass.\u001b[39;00m\n\u001b[0;32m    439\u001b[0m     \u001b[39msuper\u001b[39m()\u001b[39m.\u001b[39mdraw()\n",
      "File \u001b[1;32mc:\\Users\\User\\anaconda3\\lib\\site-packages\\matplotlib\\artist.py:73\u001b[0m, in \u001b[0;36m_finalize_rasterization.<locals>.draw_wrapper\u001b[1;34m(artist, renderer, *args, **kwargs)\u001b[0m\n\u001b[0;32m     71\u001b[0m \u001b[39m@wraps\u001b[39m(draw)\n\u001b[0;32m     72\u001b[0m \u001b[39mdef\u001b[39;00m \u001b[39mdraw_wrapper\u001b[39m(artist, renderer, \u001b[39m*\u001b[39margs, \u001b[39m*\u001b[39m\u001b[39m*\u001b[39mkwargs):\n\u001b[1;32m---> 73\u001b[0m     result \u001b[39m=\u001b[39m draw(artist, renderer, \u001b[39m*\u001b[39margs, \u001b[39m*\u001b[39m\u001b[39m*\u001b[39mkwargs)\n\u001b[0;32m     74\u001b[0m     \u001b[39mif\u001b[39;00m renderer\u001b[39m.\u001b[39m_rasterizing:\n\u001b[0;32m     75\u001b[0m         renderer\u001b[39m.\u001b[39mstop_rasterizing()\n",
      "File \u001b[1;32mc:\\Users\\User\\anaconda3\\lib\\site-packages\\matplotlib\\artist.py:50\u001b[0m, in \u001b[0;36mallow_rasterization.<locals>.draw_wrapper\u001b[1;34m(artist, renderer)\u001b[0m\n\u001b[0;32m     47\u001b[0m     \u001b[39mif\u001b[39;00m artist\u001b[39m.\u001b[39mget_agg_filter() \u001b[39mis\u001b[39;00m \u001b[39mnot\u001b[39;00m \u001b[39mNone\u001b[39;00m:\n\u001b[0;32m     48\u001b[0m         renderer\u001b[39m.\u001b[39mstart_filter()\n\u001b[1;32m---> 50\u001b[0m     \u001b[39mreturn\u001b[39;00m draw(artist, renderer)\n\u001b[0;32m     51\u001b[0m \u001b[39mfinally\u001b[39;00m:\n\u001b[0;32m     52\u001b[0m     \u001b[39mif\u001b[39;00m artist\u001b[39m.\u001b[39mget_agg_filter() \u001b[39mis\u001b[39;00m \u001b[39mnot\u001b[39;00m \u001b[39mNone\u001b[39;00m:\n",
      "File \u001b[1;32mc:\\Users\\User\\anaconda3\\lib\\site-packages\\matplotlib\\figure.py:2837\u001b[0m, in \u001b[0;36mFigure.draw\u001b[1;34m(self, renderer)\u001b[0m\n\u001b[0;32m   2834\u001b[0m         \u001b[39m# ValueError can occur when resizing a window.\u001b[39;00m\n\u001b[0;32m   2836\u001b[0m \u001b[39mself\u001b[39m\u001b[39m.\u001b[39mpatch\u001b[39m.\u001b[39mdraw(renderer)\n\u001b[1;32m-> 2837\u001b[0m mimage\u001b[39m.\u001b[39;49m_draw_list_compositing_images(\n\u001b[0;32m   2838\u001b[0m     renderer, \u001b[39mself\u001b[39;49m, artists, \u001b[39mself\u001b[39;49m\u001b[39m.\u001b[39;49msuppressComposite)\n\u001b[0;32m   2840\u001b[0m \u001b[39mfor\u001b[39;00m sfig \u001b[39min\u001b[39;00m \u001b[39mself\u001b[39m\u001b[39m.\u001b[39msubfigs:\n\u001b[0;32m   2841\u001b[0m     sfig\u001b[39m.\u001b[39mdraw(renderer)\n",
      "File \u001b[1;32mc:\\Users\\User\\anaconda3\\lib\\site-packages\\matplotlib\\image.py:132\u001b[0m, in \u001b[0;36m_draw_list_compositing_images\u001b[1;34m(renderer, parent, artists, suppress_composite)\u001b[0m\n\u001b[0;32m    130\u001b[0m \u001b[39mif\u001b[39;00m not_composite \u001b[39mor\u001b[39;00m \u001b[39mnot\u001b[39;00m has_images:\n\u001b[0;32m    131\u001b[0m     \u001b[39mfor\u001b[39;00m a \u001b[39min\u001b[39;00m artists:\n\u001b[1;32m--> 132\u001b[0m         a\u001b[39m.\u001b[39;49mdraw(renderer)\n\u001b[0;32m    133\u001b[0m \u001b[39melse\u001b[39;00m:\n\u001b[0;32m    134\u001b[0m     \u001b[39m# Composite any adjacent images together\u001b[39;00m\n\u001b[0;32m    135\u001b[0m     image_group \u001b[39m=\u001b[39m []\n",
      "File \u001b[1;32mc:\\Users\\User\\anaconda3\\lib\\site-packages\\matplotlib\\artist.py:50\u001b[0m, in \u001b[0;36mallow_rasterization.<locals>.draw_wrapper\u001b[1;34m(artist, renderer)\u001b[0m\n\u001b[0;32m     47\u001b[0m     \u001b[39mif\u001b[39;00m artist\u001b[39m.\u001b[39mget_agg_filter() \u001b[39mis\u001b[39;00m \u001b[39mnot\u001b[39;00m \u001b[39mNone\u001b[39;00m:\n\u001b[0;32m     48\u001b[0m         renderer\u001b[39m.\u001b[39mstart_filter()\n\u001b[1;32m---> 50\u001b[0m     \u001b[39mreturn\u001b[39;00m draw(artist, renderer)\n\u001b[0;32m     51\u001b[0m \u001b[39mfinally\u001b[39;00m:\n\u001b[0;32m     52\u001b[0m     \u001b[39mif\u001b[39;00m artist\u001b[39m.\u001b[39mget_agg_filter() \u001b[39mis\u001b[39;00m \u001b[39mnot\u001b[39;00m \u001b[39mNone\u001b[39;00m:\n",
      "File \u001b[1;32mc:\\Users\\User\\anaconda3\\lib\\site-packages\\matplotlib\\axes\\_base.py:3091\u001b[0m, in \u001b[0;36m_AxesBase.draw\u001b[1;34m(self, renderer)\u001b[0m\n\u001b[0;32m   3088\u001b[0m         a\u001b[39m.\u001b[39mdraw(renderer)\n\u001b[0;32m   3089\u001b[0m     renderer\u001b[39m.\u001b[39mstop_rasterizing()\n\u001b[1;32m-> 3091\u001b[0m mimage\u001b[39m.\u001b[39;49m_draw_list_compositing_images(\n\u001b[0;32m   3092\u001b[0m     renderer, \u001b[39mself\u001b[39;49m, artists, \u001b[39mself\u001b[39;49m\u001b[39m.\u001b[39;49mfigure\u001b[39m.\u001b[39;49msuppressComposite)\n\u001b[0;32m   3094\u001b[0m renderer\u001b[39m.\u001b[39mclose_group(\u001b[39m'\u001b[39m\u001b[39maxes\u001b[39m\u001b[39m'\u001b[39m)\n\u001b[0;32m   3095\u001b[0m \u001b[39mself\u001b[39m\u001b[39m.\u001b[39mstale \u001b[39m=\u001b[39m \u001b[39mFalse\u001b[39;00m\n",
      "File \u001b[1;32mc:\\Users\\User\\anaconda3\\lib\\site-packages\\matplotlib\\image.py:132\u001b[0m, in \u001b[0;36m_draw_list_compositing_images\u001b[1;34m(renderer, parent, artists, suppress_composite)\u001b[0m\n\u001b[0;32m    130\u001b[0m \u001b[39mif\u001b[39;00m not_composite \u001b[39mor\u001b[39;00m \u001b[39mnot\u001b[39;00m has_images:\n\u001b[0;32m    131\u001b[0m     \u001b[39mfor\u001b[39;00m a \u001b[39min\u001b[39;00m artists:\n\u001b[1;32m--> 132\u001b[0m         a\u001b[39m.\u001b[39;49mdraw(renderer)\n\u001b[0;32m    133\u001b[0m \u001b[39melse\u001b[39;00m:\n\u001b[0;32m    134\u001b[0m     \u001b[39m# Composite any adjacent images together\u001b[39;00m\n\u001b[0;32m    135\u001b[0m     image_group \u001b[39m=\u001b[39m []\n",
      "File \u001b[1;32mc:\\Users\\User\\anaconda3\\lib\\site-packages\\matplotlib\\artist.py:50\u001b[0m, in \u001b[0;36mallow_rasterization.<locals>.draw_wrapper\u001b[1;34m(artist, renderer)\u001b[0m\n\u001b[0;32m     47\u001b[0m     \u001b[39mif\u001b[39;00m artist\u001b[39m.\u001b[39mget_agg_filter() \u001b[39mis\u001b[39;00m \u001b[39mnot\u001b[39;00m \u001b[39mNone\u001b[39;00m:\n\u001b[0;32m     48\u001b[0m         renderer\u001b[39m.\u001b[39mstart_filter()\n\u001b[1;32m---> 50\u001b[0m     \u001b[39mreturn\u001b[39;00m draw(artist, renderer)\n\u001b[0;32m     51\u001b[0m \u001b[39mfinally\u001b[39;00m:\n\u001b[0;32m     52\u001b[0m     \u001b[39mif\u001b[39;00m artist\u001b[39m.\u001b[39mget_agg_filter() \u001b[39mis\u001b[39;00m \u001b[39mnot\u001b[39;00m \u001b[39mNone\u001b[39;00m:\n",
      "File \u001b[1;32mc:\\Users\\User\\anaconda3\\lib\\site-packages\\matplotlib\\lines.py:776\u001b[0m, in \u001b[0;36mLine2D.draw\u001b[1;34m(self, renderer)\u001b[0m\n\u001b[0;32m    773\u001b[0m             gc\u001b[39m.\u001b[39mset_sketch_params(\u001b[39m*\u001b[39m\u001b[39mself\u001b[39m\u001b[39m.\u001b[39mget_sketch_params())\n\u001b[0;32m    775\u001b[0m         gc\u001b[39m.\u001b[39mset_dashes(\u001b[39mself\u001b[39m\u001b[39m.\u001b[39m_dashOffset, \u001b[39mself\u001b[39m\u001b[39m.\u001b[39m_dashSeq)\n\u001b[1;32m--> 776\u001b[0m         renderer\u001b[39m.\u001b[39;49mdraw_path(gc, tpath, affine\u001b[39m.\u001b[39;49mfrozen())\n\u001b[0;32m    777\u001b[0m         gc\u001b[39m.\u001b[39mrestore()\n\u001b[0;32m    779\u001b[0m \u001b[39mif\u001b[39;00m \u001b[39mself\u001b[39m\u001b[39m.\u001b[39m_marker \u001b[39mand\u001b[39;00m \u001b[39mself\u001b[39m\u001b[39m.\u001b[39m_markersize \u001b[39m>\u001b[39m \u001b[39m0\u001b[39m:\n",
      "File \u001b[1;32mc:\\Users\\User\\anaconda3\\lib\\site-packages\\matplotlib\\backends\\backend_agg.py:211\u001b[0m, in \u001b[0;36mRendererAgg.draw_path\u001b[1;34m(self, gc, path, transform, rgbFace)\u001b[0m\n\u001b[0;32m    203\u001b[0m     \u001b[39melse\u001b[39;00m:\n\u001b[0;32m    204\u001b[0m         msg \u001b[39m=\u001b[39m (\n\u001b[0;32m    205\u001b[0m             \u001b[39m\"\u001b[39m\u001b[39mExceeded cell block limit in Agg.  Please set \u001b[39m\u001b[39m\"\u001b[39m\n\u001b[0;32m    206\u001b[0m             \u001b[39m\"\u001b[39m\u001b[39mthe value of rcParams[\u001b[39m\u001b[39m'\u001b[39m\u001b[39magg.path.chunksize\u001b[39m\u001b[39m'\u001b[39m\u001b[39m], \u001b[39m\u001b[39m\"\u001b[39m\n\u001b[0;32m    207\u001b[0m             \u001b[39mf\u001b[39m\u001b[39m\"\u001b[39m\u001b[39m(currently \u001b[39m\u001b[39m{\u001b[39;00mnmax\u001b[39m}\u001b[39;00m\u001b[39m) to be greater than 100 \u001b[39m\u001b[39m\"\u001b[39m\n\u001b[0;32m    208\u001b[0m             \u001b[39m+\u001b[39m inc_threshold\n\u001b[0;32m    209\u001b[0m         )\n\u001b[1;32m--> 211\u001b[0m \u001b[39mraise\u001b[39;00m \u001b[39mOverflowError\u001b[39;00m(msg) \u001b[39mfrom\u001b[39;00m \u001b[39mNone\u001b[39m\n",
      "\u001b[1;31mOverflowError\u001b[0m: Exceeded cell block limit in Agg.  Please set the value of rcParams['agg.path.chunksize'], (currently 0) to be greater than 100 or increase the path simplification threshold(rcParams['path.simplify_threshold'] = 0.111111111111 by default and path.simplify_threshold = 0.111111111111 on the input)."
     ]
    },
    {
     "data": {
      "text/plain": [
       "<Figure size 1800x800 with 1 Axes>"
      ]
     },
     "metadata": {},
     "output_type": "display_data"
    }
   ],
   "source": [
    "# 아래에 실습코드를 작성하고 결과를 확인합니다.\n",
    "plt.figure(figsize=(18, 8))\n",
    "plt.plot('도착시간', '평균 이동 시간(분)', data = movement)\n",
    "# plt.axhline(movement['이동인구(합)'].mean(), color='r')\n",
    "plt.xticks(rotation=30)\n",
    "plt.grid()\n",
    "plt.show()"
   ]
  },
  {
   "cell_type": "markdown",
   "id": "ba257395",
   "metadata": {},
   "source": [
    "* 4월의 요일 수를 알려드릴게요\n",
    "    * 일 : 4, 월 : 4, 화 : 4, 수 : 4, 목 : 4, 금 : 5, 토 : 5"
   ]
  },
  {
   "cell_type": "code",
   "execution_count": null,
   "id": "c3f440b9",
   "metadata": {},
   "outputs": [],
   "source": [
    "# 아래에 실습코드를 작성하고 결과를 확인합니다.\n"
   ]
  },
  {
   "cell_type": "markdown",
   "id": "6356b00c",
   "metadata": {},
   "source": [
    "#### [실습문제5] 어느 요일의 심야 이동이 가장 많을까요?"
   ]
  },
  {
   "cell_type": "code",
   "execution_count": null,
   "id": "470c3d5d",
   "metadata": {},
   "outputs": [],
   "source": [
    "# 아래에 실습코드를 작성하고 결과를 확인합니다.\n",
    "# 0:00~ 4:59\n",
    "\n",
    "nightmove = movement[movement['도착시간'] < 5 ]\n",
    "nightmove['요일'].value_counts()"
   ]
  },
  {
   "cell_type": "markdown",
   "id": "45594fc1",
   "metadata": {},
   "source": [
    "#### [실습문제6] 서울 지역의 데이터만 골라 보도록 하겠습니다.\n",
    "\n",
    "* 우리는 서울시의 데이터만 필요합니다!\n",
    "\n",
    "* 출발과 도착이 모두 서울인 데이터만 추출해 주세요."
   ]
  },
  {
   "cell_type": "code",
   "execution_count": null,
   "id": "fab14a50",
   "metadata": {},
   "outputs": [],
   "source": [
    "# 아래에 실습코드를 작성하고 결과를 확인합니다.\n",
    "# seoul_moving = seoul_moving[(seoul_moving[\"출발 시군구 코드\"] < 20000) & (seoul_moving[\"도착 시군구 코드\"] < 20000) ]\n",
    "# seoul_moving\n",
    "\n",
    "onlyseoul = movement[(movement['출발 시군구 코드'] < 20000) & (movement['도착 시군구 코드'] < 20000)]\n",
    "onlyseoul"
   ]
  },
  {
   "cell_type": "code",
   "execution_count": null,
   "id": "2b5bdcde",
   "metadata": {},
   "outputs": [],
   "source": [
    "# 아래에 실습코드를 작성하고 결과를 확인합니다.\n",
    "print(onlyseoul['출발 시군구 코드'].value_counts())"
   ]
  },
  {
   "cell_type": "code",
   "execution_count": null,
   "id": "fdf6b18b",
   "metadata": {},
   "outputs": [],
   "source": [
    "print(onlyseoul['도착 시군구 코드'].value_counts())"
   ]
  },
  {
   "cell_type": "markdown",
   "id": "e968a0ae",
   "metadata": {},
   "source": [
    "#### [실습문제7] 서울지역의 구 별로 groupby하여 데이터를 확인하겠습니다 (유동인구 기준)\n",
    "\n",
    "* 유출이 제일 많은 구는?\n",
    "\n",
    "* 유입이 제일 많은 구는?\n",
    "\n",
    "* 유출이 제일 적은 구는?\n",
    "\n",
    "* 유입이 제일 적은 구는?"
   ]
  },
  {
   "cell_type": "markdown",
   "id": "ab98b422",
   "metadata": {},
   "source": [
    "* 참고자료 서울 구별 코드\n",
    "    * 11010\t종로구\n",
    "    * 11020\t중구\n",
    "    * 11030\t용산구\n",
    "    * 11040\t성동구\n",
    "    * 11050\t광진구\n",
    "    * 11060\t동대문구\n",
    "    * 11070\t중랑구\n",
    "    * 11080\t성북구\n",
    "    * 11090\t강북구\n",
    "    * 11100\t도봉구\n",
    "    * 11110\t노원구\n",
    "    * 11120\t은평구\n",
    "    * 11130\t서대문구\n",
    "    * 11140\t마포구\n",
    "    * 11150\t양천구\n",
    "    * 11160\t강서구\n",
    "    * 11170\t구로구\n",
    "    * 11180\t금천구\n",
    "    * 11190\t영등포구\n",
    "    * 11200\t동작구\n",
    "    * 11210\t관악구\n",
    "    * 11220\t서초구\n",
    "    * 11230\t강남구\n",
    "    * 11240\t송파구\n",
    "    * 11250\t강동구"
   ]
  },
  {
   "cell_type": "code",
   "execution_count": null,
   "id": "38564819",
   "metadata": {},
   "outputs": [],
   "source": [
    "# 아래에 실습코드를 작성하고 결과를 확인합니다. (출발 시군구 코드)\n",
    "# bus1.groupby('자치구')['노선명'].nunique()\n",
    "\n",
    "onlyseoul.groupby(by=['출발 시군구 코드'], as_index = False)['이동인구(합)'].sum()\n"
   ]
  },
  {
   "cell_type": "code",
   "execution_count": null,
   "id": "5b74bb6d",
   "metadata": {},
   "outputs": [],
   "source": [
    "# 아래에 실습코드를 작성하고 결과를 확인합니다. (도착 시군구 코드)\n",
    "onlyseoul.groupby(by=['도착 시군구 코드'], as_index = False)['이동인구(합)'].sum()\n"
   ]
  },
  {
   "cell_type": "markdown",
   "id": "1ace49d0",
   "metadata": {},
   "source": [
    "#### [실습문제8] 낮시간만 볼게요 심야버스 제외하겠습니다\n",
    "\n",
    "* 도착시간 0부터 4까지(0:00 ~ 4:59) 제거"
   ]
  },
  {
   "cell_type": "code",
   "execution_count": null,
   "id": "d54050e1",
   "metadata": {},
   "outputs": [],
   "source": [
    "# 아래에 실습코드를 작성하고 결과를 확인합니다.\n",
    "\n",
    "seouldaytime = onlyseoul[onlyseoul['도착시간'] >= 5]\n",
    "seouldaytime.reset_index(drop=True, inplace = True)\n",
    "seouldaytime"
   ]
  },
  {
   "cell_type": "code",
   "execution_count": null,
   "id": "98fe6300",
   "metadata": {},
   "outputs": [],
   "source": []
  },
  {
   "cell_type": "markdown",
   "id": "bff8a6d6",
   "metadata": {},
   "source": [
    "#### [실습문제9] '도착 시군구 코드' 를 기준으로 각 구별로 '평균 이동 시간(분)' , '이동인구(합)' 의 평균 과 합을 구해보겠습니다\n",
    "\n",
    "* groupby 사용, as_index=False로 설정해주세요"
   ]
  },
  {
   "cell_type": "code",
   "execution_count": null,
   "id": "7783e416",
   "metadata": {},
   "outputs": [],
   "source": [
    "# 아래에 실습코드를 작성하고 결과를 확인합니다.\n",
    "\n",
    "seoulmean = seouldaytime.groupby(by=['도착 시군구 코드'], as_index = False)['평균 이동 시간(분)', '이동인구(합)', '도착시간'].mean()\n",
    "seoulmean"
   ]
  },
  {
   "cell_type": "code",
   "execution_count": null,
   "id": "86bd27f5",
   "metadata": {},
   "outputs": [],
   "source": [
    "# 아래에 실습코드를 작성하고 결과를 확인합니다.\n",
    "\n",
    "seoulsum = seouldaytime.groupby(by=['도착 시군구 코드'], as_index = False)['평균 이동 시간(분)', '이동인구(합)'].sum()\n",
    "seoulsum"
   ]
  },
  {
   "cell_type": "code",
   "execution_count": null,
   "id": "baa867ac",
   "metadata": {},
   "outputs": [],
   "source": [
    "# 컬럼명을 변경해볼까요?\n",
    "seoulsum.rename(columns={\"평균 이동 시간(분)\":'총 이동 시간', '이동인구(합)':'총 이동 인구'},inplace=True)"
   ]
  },
  {
   "cell_type": "code",
   "execution_count": null,
   "id": "e94adaf1",
   "metadata": {},
   "outputs": [],
   "source": [
    "seoulsum"
   ]
  },
  {
   "cell_type": "code",
   "execution_count": null,
   "id": "cb213b3a",
   "metadata": {},
   "outputs": [],
   "source": [
    "# 파일을 합쳐볼까요\n",
    "df_seoul_moving = pd.merge(seoulmean, seoulsum, how = 'inner', on = '도착 시군구 코드')"
   ]
  },
  {
   "cell_type": "code",
   "execution_count": null,
   "id": "3a48a73c",
   "metadata": {},
   "outputs": [],
   "source": [
    "df_seoul_moving['자치구'] = ['종로구', '중구', '용산구', '성동구', '광진구', '동대문구', '중랑구', '성북구', '강북구', '도봉구', '노원구', '은평구', '서대문구', '마포구', '양천구', '강서구', '구로구', '금천구', '영등포구', '동작구', '관악구', '서초구', '강남구', '송파구', '강동구']\n",
    "df_seoul_moving"
   ]
  },
  {
   "cell_type": "code",
   "execution_count": null,
   "id": "b7389d07",
   "metadata": {},
   "outputs": [],
   "source": [
    "# 해당 데이터프레임을 'df_seoul_moving.csv' 파일로 저장하세요\n",
    "df_seoul_moving.to_csv(\"C:/Users/User/iCloudDrive/AIVLE/3주차/2023.02.13_미니프로젝트1차_실습자료/df_seoul_moving.csv\", index = False)"
   ]
  },
  {
   "cell_type": "markdown",
   "id": "602b8bae",
   "metadata": {},
   "source": [
    "---"
   ]
  },
  {
   "cell_type": "markdown",
   "id": "southeast-integration",
   "metadata": {},
   "source": [
    "# 3.데이터 분석하기\n",
    "+ KeyPoint : 데이터의 형태를 살펴보고 다양한 분석기법을 통해 모델링에 적합하도록 정제요소를 선별할 수 있다.\n",
    "  * 데이터들의 패턴 탐색\n",
    "  * 변수들간의 관계 파악"
   ]
  },
  {
   "cell_type": "code",
   "execution_count": null,
   "id": "194ae01d",
   "metadata": {},
   "outputs": [],
   "source": [
    "import seaborn as sns\n",
    "import matplotlib.pyplot as plt\n",
    "\n",
    "# 시각화 한글폰트 설정\n",
    "# 맑은 고딕\n",
    "\n",
    "plt.rc('font', family='Malgun Gothic')\n",
    "sns.set(font=\"Malgun Gothic\",#\"NanumGothicCoding\", \n",
    "        rc={\"axes.unicode_minus\":False}, # 마이너스 부호 깨짐 현상 해결\n",
    "        style='darkgrid')\n",
    "\n",
    "# scipy\n",
    "import scipy.stats as spst"
   ]
  },
  {
   "cell_type": "markdown",
   "id": "material-complex",
   "metadata": {},
   "source": [
    "#### [실습문제10] 데이터 분포 알아보기\n",
    "* 다양한 변수를 기준으로 그래프를 그려보고 인사이트를 도출해보세요."
   ]
  },
  {
   "cell_type": "code",
   "execution_count": null,
   "id": "2a610ade",
   "metadata": {},
   "outputs": [],
   "source": [
    "# 아래에 실습코드를 작성하고 결과를 확인합니다.\n",
    "df_seoul_moving "
   ]
  },
  {
   "cell_type": "code",
   "execution_count": null,
   "id": "e45b1994",
   "metadata": {},
   "outputs": [],
   "source": [
    "df_seoul_moving['시군구'] = df_seoul_moving['도착 시군구 코드'].Series.slice(start=0, stop=4)\n",
    "# df_seoul_moving['자치구'] = df_seoul_moving['시군구'].map({'01':'종로구', '02.0':'중구', '03.0': '용산구', '04.0':'성동구', '05.0': '광진구', '06.0': '동대문구', '07.0': '중랑구', '08.0': '성북구', '09.0': '강북구', '10.0': '도봉구', '11.0': '노원구', '12.0': '은평구', '13.0': '서대문구', '14.0': '마포구', '15.0': '양천구', '16.0': '강서구', '17.0': '구로구', '18.0': '금천구', '19.0': '영등포구', '20.0': '동작구', '21.0': '관악구', '22.0': '서초구', '23.0': '강남구', '24.0': '송파구', '25.0': '강동구'})\n",
    "df_seoul_moving"
   ]
  },
  {
   "cell_type": "code",
   "execution_count": null,
   "id": "ce0af14b",
   "metadata": {},
   "outputs": [],
   "source": [
    "# 아래에 실습코드를 작성하고 결과를 확인합니다.\n",
    "plt.figure(figsize=(18, 8))\n",
    "plt.plot('도착 시군구 코드', '이동인구(합)', data = df_seoul_moving)\n",
    "plt.axhline(df_seoul_moving['이동인구(합)'].mean(), color='r')\n",
    "plt.xticks(rotation=30)\n",
    "plt.show()"
   ]
  },
  {
   "cell_type": "code",
   "execution_count": null,
   "id": "8cc4598f",
   "metadata": {},
   "outputs": [],
   "source": [
    "# 아래에 실습코드를 작성하고 결과를 확인합니다."
   ]
  },
  {
   "cell_type": "code",
   "execution_count": null,
   "id": "a360d86c",
   "metadata": {},
   "outputs": [],
   "source": [
    "# 위 차트를 통해 알게된 사실을 정리해봅시다.\n",
    "# 1. \n",
    "# 2.\n",
    "# 3."
   ]
  },
  {
   "cell_type": "markdown",
   "id": "ca567b34",
   "metadata": {},
   "source": [
    "---"
   ]
  }
 ],
 "metadata": {
  "kernelspec": {
   "display_name": "Python 3 (ipykernel)",
   "language": "python",
   "name": "python3"
  },
  "language_info": {
   "codemirror_mode": {
    "name": "ipython",
    "version": 3
   },
   "file_extension": ".py",
   "mimetype": "text/x-python",
   "name": "python",
   "nbconvert_exporter": "python",
   "pygments_lexer": "ipython3",
   "version": "3.9.13"
  },
  "vscode": {
   "interpreter": {
    "hash": "f08154012ddadd8e950e6e9e035c7a7b32c136e7647e9b7c77e02eb723a8bedb"
   }
  }
 },
 "nbformat": 4,
 "nbformat_minor": 5
}
